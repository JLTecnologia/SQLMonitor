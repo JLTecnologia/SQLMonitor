{
    "metadata": {
        "kernelspec": {
            "name": "powershell",
            "display_name": "PowerShell",
            "language": "powershell"
        },
        "language_info": {
            "name": "powershell",
            "codemirror_mode": "shell",
            "mimetype": "text/x-sh",
            "file_extension": ".ps1"
        }
    },
    "nbformat_minor": 2,
    "nbformat": 4,
    "cells": [
        {
            "cell_type": "markdown",
            "source": [
                "# Setup Perfmon Data Collection\n",
                "\n",
                "This notebook contains instructions on how to setup perfmon data collection on each server to be monitored, and import the data into Central Monitoring Server.\n",
                "\n",
                "We create 2 Grafana dashboards on top of collected data using Central Server.\n",
                "\n",
                "## Instructions -\n",
                "\n",
                "1. Part 01 - Setup Baselining of SqlServer using Perfmon & Powershell\n",
                "2. Part 02 - Configure Grafana for Visualization on baselined data\n",
                "\n",
                "  \n",
                "\n",
                "Initiatize **$Servers** with list of Server Names where Perfmon Baselining has to be done."
            ],
            "metadata": {
                "azdata_cell_guid": "60515d4a-3145-47ed-b9f6-83ebc74f8f64"
            },
            "attachments": {}
        },
        {
            "cell_type": "code",
            "source": [
                "$Servers = @('localhost','196.1.115.196')"
            ],
            "metadata": {
                "azdata_cell_guid": "adffde92-3355-40d3-94e4-61ffeec2d64b",
                "tags": []
            },
            "outputs": [
                {
                    "name": "stdout",
                    "text": "",
                    "output_type": "stream"
                }
            ],
            "execution_count": 6
        },
        {
            "cell_type": "markdown",
            "source": [
                "# Part 01 - Setup Baselining of SqlServer using Perfmon & PowerShell\n",
                "\n",
                "## 1\\. Create \\[DBA\\] database using below script. Make sure to change the data & log files path.\n",
                "\n",
                "If a similar DBA database exists where data collection should be performed, then this step can be skipped."
            ],
            "metadata": {
                "azdata_cell_guid": "06fad0cf-c72e-48ca-9cd2-458eea2d1d00"
            },
            "attachments": {}
        },
        {
            "cell_type": "code",
            "source": [
                "$sqlCreateDatabase = @\"\r\n",
                "create database [DBA] \r\n",
                "--on (name = 'DBA', filename = 'E:\\MSSQL14.V17\\Data\\DBA.mdf' , SIZE = 500MB , FILEGROWTH = 200MB )\r\n",
                "--log on (name = 'DBA_log', filename = 'E:\\MSSQL14.V17\\Log\\DBA_log.ldf' , SIZE = 500MB , FILEGROWTH = 200MB )\r\n",
                "go\r\n",
                "\"@\r\n",
                "\r\n",
                "Invoke-DbaQuery -SqlInstance $Servers -Query $sqlCreateDatabase;"
            ],
            "metadata": {
                "azdata_cell_guid": "396cadde-534e-4be8-ac0e-daa9a27cb06c"
            },
            "outputs": [],
            "execution_count": null
        },
        {
            "cell_type": "markdown",
            "source": [
                "## 2\\. Start Perfmon data collection using template **NonSql-Files\\\\DBA\\_PerfMon\\_NonSQL\\_Collector\\_Template.xml** inside Perfmon folder.\n",
                "\n",
                "This directory should be at least 4 gb of size."
            ],
            "metadata": {
                "azdata_cell_guid": "92a9bde7-2805-4a23-a2a8-afb352055af8"
            },
            "attachments": {}
        },
        {
            "cell_type": "code",
            "source": [
                "$repoFolder = \"$(Get-Location)\\SqlServer-Baselining-Grafana\"\r\n",
                "$data_collector_template_path = \"$repoFolder\\NonSql-Files\\DBA_PerfMon_NonSQL_Collector_Template.xml\";\r\n",
                "\r\n",
                "$collector_root_directory = \"$repoFolder\\Perfmon\";\r\n",
                "if(Test-Path $repoFolder) {\"'$collector_root_directory' path already exists\"} else {New-Item $collector_root_directory -ItemType Directory}\r\n",
                "\r\n",
                "$data_collector_set_name = 'DBA';\r\n",
                "$log_file_path = \"$collector_root_directory\"\r\n",
                "$file_rotation_time = '04:00:00'\r\n",
                "$sample_interval = '00:00:05'\r\n",
                "$version_format = 'yyyyMMdd\\-HHmmss'\r\n",
                "\r\n",
                "foreach($srv in $Servers)\r\n",
                "{\r\n",
                "    logman import -name \"$data_collector_set_name-[$srv]\" -xml \"$data_collector_template_path\"\r\n",
                "    logman update -name \"$data_collector_set_name-[$srv]\" -f bin -cnf \"$file_rotation_time\" -o \"$log_file_path\\$($srv)__\" -si \"$sample_interval\"\r\n",
                "    logman start -name \"$data_collector_set_name-[$srv]\"\r\n",
                "}\r\n",
                "<#\r\n",
                "logman stop -name \"$data_collector_set_name\"\r\n",
                "logman delete -name \"$data_collector_set_name\"\r\n",
                "#>\r\n",
                ""
            ],
            "metadata": {
                "azdata_cell_guid": "d9200819-645e-4be5-a454-d26cb2b08a36"
            },
            "outputs": [
                {
                    "name": "stdout",
                    "text": "'D:\\GitHub-Personal\\SqlServer-Baselining-Grafana\\Perfmon' path already exists\n",
                    "output_type": "stream"
                },
                {
                    "name": "stdout",
                    "text": "The command completed successfully.\n",
                    "output_type": "stream"
                },
                {
                    "name": "stdout",
                    "text": "The command completed successfully.\n",
                    "output_type": "stream"
                },
                {
                    "name": "stdout",
                    "text": "The command completed successfully.\n",
                    "output_type": "stream"
                },
                {
                    "name": "stdout",
                    "text": "The command completed successfully.\n",
                    "output_type": "stream"
                },
                {
                    "name": "stdout",
                    "text": "The command completed successfully.\n",
                    "output_type": "stream"
                },
                {
                    "name": "stdout",
                    "text": "The command completed successfully.\n",
                    "output_type": "stream"
                }
            ],
            "execution_count": 7
        }
    ]
}