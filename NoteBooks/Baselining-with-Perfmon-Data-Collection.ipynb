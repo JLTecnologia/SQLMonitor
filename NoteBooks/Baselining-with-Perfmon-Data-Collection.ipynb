{
    "metadata": {
        "kernelspec": {
            "name": "powershell",
            "display_name": "PowerShell",
            "language": "powershell"
        },
        "language_info": {
            "name": "powershell",
            "codemirror_mode": "shell",
            "mimetype": "text/x-sh",
            "file_extension": ".ps1"
        }
    },
    "nbformat_minor": 2,
    "nbformat": 4,
    "cells": [
        {
            "cell_type": "markdown",
            "source": [
                "# Setup Perfmon Data Collection\n",
                "\n",
                "This notebook contains instructions on how to setup perfmon data collection on each server to be monitored, and import the data into Central Monitoring Server.\n",
                "\n",
                "We create 2 Grafana dashboards on top of collected data using Central Server.\n",
                "\n",
                "## Instructions -\n",
                "\n",
                "1. Part 01 - Setup Baselining of SqlServer using Perfmon & Powershell\n",
                "2. Part 02 - Configure Grafana for Visualization on baselined data\n",
                "\n",
                "  \n",
                "\n",
                "Initiatize **$Servers** with list of Server Names where Perfmon Baselining has to be done."
            ],
            "metadata": {
                "azdata_cell_guid": "60515d4a-3145-47ed-b9f6-83ebc74f8f64"
            },
            "attachments": {}
        },
        {
            "cell_type": "code",
            "source": [
                "$Servers = @('localhost')"
            ],
            "metadata": {
                "azdata_cell_guid": "adffde92-3355-40d3-94e4-61ffeec2d64b",
                "tags": []
            },
            "outputs": [],
            "execution_count": null
        },
        {
            "cell_type": "markdown",
            "source": [
                "# Part 01 - Setup Baselining of SqlServer using Perfmon & PowerShell"
            ],
            "metadata": {
                "azdata_cell_guid": "06fad0cf-c72e-48ca-9cd2-458eea2d1d00"
            },
            "attachments": {}
        },
        {
            "cell_type": "markdown",
            "source": [
                "## 1\\. Create required objects in \\[DBA\\] database using below script. Make sure to change the data & log files path.\n",
                "\n",
                "If a similar DBA database exists where data collection should be performed, then this step can be skipped."
            ],
            "metadata": {
                "azdata_cell_guid": "76775a47-89a0-4df3-9e25-8c131c45b8f4"
            },
            "attachments": {}
        },
        {
            "cell_type": "code",
            "source": [
                "$sqlCreateDatabase = @\"\r\n",
                "USE master\r\n",
                "GO\r\n",
                "create database [DBA]\r\n",
                "--on (name = 'DBA', filename = 'E:\\MSSQL14.V17\\Data\\DBA.mdf' , SIZE = 500MB , FILEGROWTH = 200MB )\r\n",
                "--log on (name = 'DBA_log', filename = 'E:\\MSSQL14.V17\\Log\\DBA_log.ldf' , SIZE = 500MB , FILEGROWTH = 200MB );\r\n",
                "GO\r\n",
                "\"@\r\n",
                "\r\n",
                "Invoke-DbaQuery -SqlInstance $Servers -Query $sqlCreateDatabase;\r\n",
                "\r\n",
                "$sqlCreateObjects = @\"\r\n",
                "CREATE SCHEMA [bkp]\r\n",
                "GO\r\n",
                "CREATE SCHEMA [poc]\r\n",
                "GO\r\n",
                "CREATE SCHEMA [stg]\r\n",
                "GO\r\n",
                "CREATE SCHEMA [tst]\r\n",
                "GO\r\n",
                "\r\n",
                "create table dbo.perfmon_files\r\n",
                "(\tserver_name varchar(100) not null, \r\n",
                "\tfile_name varchar(255) not null, \r\n",
                "\tfile_path varchar(255) not null, \r\n",
                "\tcollection_time_utc datetime2 not null default SYSUTCDATETIME()\r\n",
                "\t,constraint pk_perfmon_files primary key (file_name, collection_time_utc)\r\n",
                ")\r\n",
                "go\r\n",
                "\r\n",
                "create partition function pf_dba (datetime2)\r\n",
                "as range right for values ('2022-03-25 00:00:00.0000000')\r\n",
                "go\r\n",
                "\r\n",
                "create partition scheme ps_dba as partition pf_dba all to ([primary])\r\n",
                "go\r\n",
                "\r\n",
                "-- drop table [dbo].[performance_counters]\r\n",
                "create table [dbo].[performance_counters]\r\n",
                "(\r\n",
                "\t[collection_time_utc] [datetime2](7) NOT NULL,\r\n",
                "\t[computer_name] [varchar](200) NOT NULL,\r\n",
                "\t[path] [nvarchar](2000) NOT NULL,\r\n",
                "\t[object] [varchar](255) NOT NULL,\r\n",
                "\t[counter] [varchar](255) NOT NULL,\r\n",
                "\t[value] numeric(38,10) NULL,\r\n",
                "\t[instance] [nvarchar](255) NULL\r\n",
                ") on ps_dba ([collection_time_utc])\r\n",
                "go\r\n",
                "\r\n",
                "create clustered index ci_performance_counters on [dbo].[performance_counters] ([collection_time_utc], object, counter, [instance], [value])\r\n",
                "go\r\n",
                "\r\n",
                "\r\n",
                "/* Validate Partition Data */\r\n",
                "SELECT SCHEMA_NAME(o.schema_id)+'.'+ o.name as TableName,\r\n",
                "\tpf.name as PartitionFunction,\r\n",
                "\tds.name AS PartitionScheme, \r\n",
                "\tp.partition_number AS PartitionNumber, \r\n",
                "\tCASE pf.boundary_value_on_right WHEN 1 THEN 'RIGHT' ELSE 'LEFT' END AS PartitionFunctionRange, \r\n",
                "\tprv_left.value AS LowerBoundaryValue, \r\n",
                "\tprv_right.value AS UpperBoundaryValue, \r\n",
                "\tfg.name AS FileGroupName,\r\n",
                "\tp.[row_count] as TotalRows,\r\n",
                "\tCONVERT(DECIMAL(12,2), p.reserved_page_count*8/1024.0) as ReservedSpaceMB,\r\n",
                "\tCONVERT(DECIMAL(12,2), p.used_page_count*8/1024.0) as UsedSpaceMB\r\n",
                "FROM sys.dm_db_partition_stats AS p (NOLOCK)\r\n",
                "\tINNER JOIN sys.indexes AS i (NOLOCK) ON i.[object_id] = p.[object_id] AND i.index_id = p.index_id\r\n",
                "\tINNER JOIN sys.data_spaces AS ds (NOLOCK) ON ds.data_space_id = i.data_space_id\r\n",
                "\tINNER JOIN sys.objects AS o (NOLOCK) ON o.object_id = p.object_id\r\n",
                "\tINNER JOIN sys.partition_schemes AS ps (NOLOCK) ON ps.data_space_id = ds.data_space_id\r\n",
                "\tINNER JOIN sys.partition_functions AS pf (NOLOCK) ON pf.function_id = ps.function_id\r\n",
                "\tINNER JOIN sys.destination_data_spaces AS dds2 (NOLOCK) ON dds2.partition_scheme_id = ps.data_space_id AND dds2.destination_id = p.partition_number\r\n",
                "\tINNER JOIN sys.filegroups AS fg (NOLOCK) ON fg.data_space_id = dds2.data_space_id\r\n",
                "\tLEFT OUTER JOIN sys.partition_range_values AS prv_left (NOLOCK) ON ps.function_id = prv_left.function_id AND prv_left.boundary_id = p.partition_number - 1\r\n",
                "\tLEFT OUTER JOIN sys.partition_range_values AS prv_right (NOLOCK) ON ps.function_id = prv_right.function_id AND prv_right.boundary_id = p.partition_number\r\n",
                "WHERE\r\n",
                "\tOBJECTPROPERTY(p.[object_id], 'IsMSShipped') = 0\r\n",
                "ORDER BY p.partition_number;\t\r\n",
                "go\r\n",
                "\r\n",
                "/* Add boundaries to partition. 1 boundary per hour */\r\n",
                "set nocount on;\r\n",
                "declare @partition_boundary datetime2;\r\n",
                "declare @target_boundary_value datetime2; /* 3 months back date */\r\n",
                "set @target_boundary_value = DATEADD(mm,DATEDIFF(mm,0,GETDATE())-3,0);\r\n",
                "set @target_boundary_value = '2022-03-25 19:00:00.000'\r\n",
                "\r\n",
                "declare cur_boundaries cursor local fast_forward for\r\n",
                "\t\tselect convert(datetime2,prv.value) as boundary_value\r\n",
                "\t\tfrom sys.partition_range_values prv\r\n",
                "\t\tjoin sys.partition_functions pf on pf.function_id = prv.function_id\r\n",
                "\t\twhere pf.name = 'pf_dba' and convert(datetime2,prv.value) < @target_boundary_value\r\n",
                "\t\torder by prv.value asc;\r\n",
                "\r\n",
                "open cur_boundaries;\r\n",
                "fetch next from cur_boundaries into @partition_boundary;\r\n",
                "while @@FETCH_STATUS = 0\r\n",
                "begin\r\n",
                "\t--print @partition_boundary\r\n",
                "\talter partition function pf_dba() merge range (@partition_boundary);\r\n",
                "\r\n",
                "\tfetch next from cur_boundaries into @partition_boundary;\r\n",
                "end\r\n",
                "CLOSE cur_boundaries\r\n",
                "DEALLOCATE cur_boundaries;\r\n",
                "go\r\n",
                "\r\n",
                "\r\n",
                "/* Remove boundaries with retention of 3 months */\r\n",
                "set nocount on;\r\n",
                "declare @current_boundary_value datetime2;\r\n",
                "declare @target_boundary_value datetime2; /* last day of new quarter */\r\n",
                "set @target_boundary_value = DATEADD (dd, -1, DATEADD(qq, DATEDIFF(qq, 0, GETDATE()) +2, 0));\r\n",
                "\r\n",
                "select top 1 @current_boundary_value = convert(datetime2,prv.value)\r\n",
                "from sys.partition_range_values prv\r\n",
                "join sys.partition_functions pf on pf.function_id = prv.function_id\r\n",
                "where pf.name = 'pf_dba'\r\n",
                "order by prv.value desc;\r\n",
                "\r\n",
                "select [@current_boundary_value] = @current_boundary_value, [@target_boundary_value] = @target_boundary_value;\r\n",
                "\r\n",
                "while (@current_boundary_value < @target_boundary_value)\r\n",
                "begin\r\n",
                "\tset @current_boundary_value = DATEADD(hour,1,@current_boundary_value);\r\n",
                "\t--print @current_boundary_value\r\n",
                "\talter partition scheme ps_dba next used [primary];\r\n",
                "\talter partition function pf_dba() split range (@current_boundary_value);\t\r\n",
                "end\r\n",
                "go\r\n",
                "\r\n",
                "\"@\r\n",
                "\r\n",
                "Invoke-DbaQuery -SqlInstance $Servers -Database 'DBA' -Query $sqlCreateObjects\r\n",
                "\r\n",
                ""
            ],
            "metadata": {
                "azdata_cell_guid": "396cadde-534e-4be8-ac0e-daa9a27cb06c",
                "tags": []
            },
            "outputs": [],
            "execution_count": null
        },
        {
            "cell_type": "markdown",
            "source": [
                "## 2\\. Start Perfmon data collection using template **NonSql-Files\\\\DBA\\_PerfMon\\_NonSQL\\_Collector\\_Template.xml**\n",
                "\n",
                "Copy the template file **NonSql-Files\\\\DBA\\_PerfMon\\_NonSQL\\_Collector\\_Template.xml** on path where perfmon collector files would be saved. This directory should be at least 4 gb of size. \n",
                "\n",
                "Then in below script, update **$data\\_collector\\_template\\_path** variable value on line 3. Now execute below script. This should create a perfmon data collector set named \\[DBA\\]."
            ],
            "metadata": {
                "azdata_cell_guid": "92a9bde7-2805-4a23-a2a8-afb352055af8"
            },
            "attachments": {}
        },
        {
            "cell_type": "code",
            "source": [
                "# Copy paste the template file on folder that would contain Perfmon data collection logs\r\n",
                "    # Point the template path\r\n",
                "$data_collector_template_path = \"E:\\Perfmon\\DBA_PerfMon_All_Counters_Template.xml\";\r\n",
                "$data_collector_set_name = 'DBA';\r\n",
                "\r\n",
                "# find Perfmon data collection logs folder path\r\n",
                "$collector_root_directory = Split-Path $data_collector_template_path -Parent\r\n",
                "$log_file_path = \"$collector_root_directory\\$data_collector_set_name\"\r\n",
                "$file_rotation_time = '00:30:00'\r\n",
                "$sample_interval = '00:00:10'\r\n",
                "\r\n",
                "logman import -name \"$data_collector_set_name\" -xml \"$data_collector_template_path\"\r\n",
                "logman update -name \"$data_collector_set_name\" -f bin -cnf \"$file_rotation_time\" -o \"$log_file_path\" -si \"$sample_interval\"\r\n",
                "logman start -name \"$data_collector_set_name\"\r\n",
                "\r\n",
                "<#\r\n",
                "logman stop -name \"$data_collector_set_name\"\r\n",
                "logman delete -name \"$data_collector_set_name\"\r\n",
                "#>\r\n",
                ""
            ],
            "metadata": {
                "azdata_cell_guid": "d9200819-645e-4be5-a454-d26cb2b08a36",
                "tags": [
                    "hide_input"
                ]
            },
            "outputs": [
                {
                    "name": "stdout",
                    "text": "The command completed successfully.\n",
                    "output_type": "stream"
                },
                {
                    "name": "stdout",
                    "text": "The command completed successfully.\n",
                    "output_type": "stream"
                },
                {
                    "name": "stdout",
                    "text": "The command completed successfully.\n",
                    "output_type": "stream"
                }
            ],
            "execution_count": 26
        },
        {
            "cell_type": "markdown",
            "source": [
                "## 3\\. Create jobs \\[**(dba) Collect-PerfmonData**\\], \\[**(dba) Purge-DbaMetrics - Daily**\\] & \\[**(dba) Partitions-Maintenance**\\]\n",
                "\n",
                "Execute below tsql"
            ],
            "metadata": {
                "azdata_cell_guid": "559e6fdf-edf3-4c4c-b361-c347371bb285"
            },
            "attachments": {}
        },
        {
            "cell_type": "markdown",
            "source": [
                ""
            ],
            "metadata": {
                "azdata_cell_guid": "8c5dae3c-63ca-4681-91e9-558e65e058d0"
            }
        },
        {
            "cell_type": "code",
            "source": [
                "Get-Location\r\n",
                "$log_file_path\r\n",
                "$repoFolder\r\n",
                "$collector_root_directory"
            ],
            "metadata": {
                "azdata_cell_guid": "43182f47-18b0-4799-b400-3084054d4bdf",
                "tags": []
            },
            "outputs": [
                {
                    "name": "stdout",
                    "text": "\nPath              \n----              \nD:\\GitHub-Personal\nD:\\GitHub-Personal\\SqlServer-Baselining-Grafana\\Perfmon\nD:\\GitHub-Personal\\SqlServer-Baselining-Grafana\nD:\\GitHub-Personal\\SqlServer-Baselining-Grafana\\Perfmon\n\n\n",
                    "output_type": "stream"
                }
            ],
            "execution_count": 11
        }
    ]
}