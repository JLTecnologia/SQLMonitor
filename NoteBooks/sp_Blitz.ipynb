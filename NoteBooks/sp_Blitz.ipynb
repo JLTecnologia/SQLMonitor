{
    "metadata": {
        "kernelspec": {
            "name": "SQL",
            "display_name": "SQL",
            "language": "sql"
        },
        "language_info": {
            "name": "sql",
            "version": ""
        }
    },
    "nbformat_minor": 2,
    "nbformat": 4,
    "cells": [
        {
            "cell_type": "code",
            "source": [
                "exec sp_Blitz"
            ],
            "metadata": {
                "azdata_cell_guid": "88bd85dd-bee1-441d-928d-14aa59a6dbda"
            },
            "outputs": [
                {
                    "output_type": "display_data",
                    "data": {
                        "text/html": "Component [master].[dbo].[sp_BlitzBackups] is outdated"
                    },
                    "metadata": {}
                },
                {
                    "output_type": "display_data",
                    "data": {
                        "text/html": "Component [master].[dbo].[sp_BlitzCache] is outdated"
                    },
                    "metadata": {}
                },
                {
                    "output_type": "display_data",
                    "data": {
                        "text/html": "Component [master].[dbo].[sp_BlitzFirst] is outdated"
                    },
                    "metadata": {}
                },
                {
                    "output_type": "display_data",
                    "data": {
                        "text/html": "Component [master].[dbo].[sp_BlitzIndex] is outdated"
                    },
                    "metadata": {}
                },
                {
                    "output_type": "display_data",
                    "data": {
                        "text/html": "Component [master].[dbo].[sp_BlitzLock] is outdated"
                    },
                    "metadata": {}
                },
                {
                    "output_type": "display_data",
                    "data": {
                        "text/html": "Component [master].[dbo].[sp_BlitzWho] is outdated"
                    },
                    "metadata": {}
                },
                {
                    "output_type": "display_data",
                    "data": {
                        "text/html": "Total execution time: 00:00:12.304"
                    },
                    "metadata": {}
                },
                {
                    "output_type": "execute_result",
                    "metadata": {},
                    "execution_count": 1,
                    "data": {
                        "application/vnd.dataresource+json": {
                            "schema": {
                                "fields": [
                                    {
                                        "name": "Priority"
                                    },
                                    {
                                        "name": "FindingsGroup"
                                    },
                                    {
                                        "name": "Finding"
                                    },
                                    {
                                        "name": "DatabaseName"
                                    },
                                    {
                                        "name": "URL"
                                    },
                                    {
                                        "name": "Details"
                                    },
                                    {
                                        "name": "QueryPlan"
                                    },
                                    {
                                        "name": "QueryPlanFiltered"
                                    },
                                    {
                                        "name": "CheckID"
                                    }
                                ]
                            },
                            "data": [
                                {
                                    "0": "0",
                                    "1": "Outdated sp_Blitz",
                                    "2": "sp_Blitz is Over 6 Months Old",
                                    "3": "NULL",
                                    "4": "http://FirstResponderKit.org/",
                                    "5": "Some things get better with age, like fine wine and your T-SQL. However, sp_Blitz is not one of those things - time to go download the current one.",
                                    "6": "NULL",
                                    "7": "NULL",
                                    "8": "155"
                                },
                                {
                                    "0": "0",
                                    "1": "sp_Blitz Sep 13 2020 12:00AM",
                                    "2": "SQL Server First Responder Kit",
                                    "3": "NULL",
                                    "4": "http://FirstResponderKit.org/",
                                    "5": "To get help or add your own contributions, join us at http://FirstResponderKit.org.",
                                    "6": "NULL",
                                    "7": "NULL",
                                    "8": "-1"
                                },
                                {
                                    "0": "1",
                                    "1": "Reliability",
                                    "2": "Last good DBCC CHECKDB over 2 weeks old",
                                    "3": "DMAT",
                                    "4": "https://BrentOzar.com/go/checkdb",
                                    "5": "Last successful CHECKDB:  never.",
                                    "6": "NULL",
                                    "7": "NULL",
                                    "8": "68"
                                },
                                {
                                    "0": "1",
                                    "1": "Reliability",
                                    "2": "Last good DBCC CHECKDB over 2 weeks old",
                                    "3": "inhouse",
                                    "4": "https://BrentOzar.com/go/checkdb",
                                    "5": "Last successful CHECKDB:  never.",
                                    "6": "NULL",
                                    "7": "NULL",
                                    "8": "68"
                                },
                                {
                                    "0": "1",
                                    "1": "Reliability",
                                    "2": "Last good DBCC CHECKDB over 2 weeks old",
                                    "3": "master",
                                    "4": "https://BrentOzar.com/go/checkdb",
                                    "5": "Last successful CHECKDB:  never.",
                                    "6": "NULL",
                                    "7": "NULL",
                                    "8": "68"
                                },
                                {
                                    "0": "1",
                                    "1": "Reliability",
                                    "2": "Last good DBCC CHECKDB over 2 weeks old",
                                    "3": "model",
                                    "4": "https://BrentOzar.com/go/checkdb",
                                    "5": "Last successful CHECKDB:  never.",
                                    "6": "NULL",
                                    "7": "NULL",
                                    "8": "68"
                                },
                                {
                                    "0": "1",
                                    "1": "Reliability",
                                    "2": "Last good DBCC CHECKDB over 2 weeks old",
                                    "3": "msdb",
                                    "4": "https://BrentOzar.com/go/checkdb",
                                    "5": "Last successful CHECKDB:  never.",
                                    "6": "NULL",
                                    "7": "NULL",
                                    "8": "68"
                                },
                                {
                                    "0": "20",
                                    "1": "Reliability",
                                    "2": "Memory Dumps Have Occurred",
                                    "3": "NULL",
                                    "4": "https://BrentOzar.com/go/dump",
                                    "5": "That ain't good. I've had 7 memory dumps between Jan 15 2022 11:02AM and Jan 22 2022 12:37PM!",
                                    "6": "NULL",
                                    "7": "NULL",
                                    "8": "171"
                                },
                                {
                                    "0": "50",
                                    "1": "Performance",
                                    "2": "Poison Wait Detected: THREADPOOL",
                                    "3": "NULL",
                                    "4": "https://BrentOzar.com/go/poison/#THREADPOOL",
                                    "5": "0:06:29:30 of this wait have been recorded. This wait often indicates killer performance problems.",
                                    "6": "NULL",
                                    "7": "NULL",
                                    "8": "107"
                                },
                                {
                                    "0": "100",
                                    "1": "Performance",
                                    "2": "Many Plans for One Query",
                                    "3": "NULL",
                                    "4": "https://BrentOzar.com/go/parameterization",
                                    "5": "39420 plans are present for a single query in the plan cache - meaning we probably have parameterization issues.",
                                    "6": "NULL",
                                    "7": "NULL",
                                    "8": "160"
                                },
                                {
                                    "0": "100",
                                    "1": "Performance",
                                    "2": "Max Memory Set Too High",
                                    "3": "NULL",
                                    "4": "https://BrentOzar.com/go/max",
                                    "5": "SQL Server max memory is set to 2147483647 megabytes, but the server only has 202751 megabytes.  SQL Server may drain the system dry of memory, and under certain conditions, this can cause Windows to swap to disk.",
                                    "6": "NULL",
                                    "7": "NULL",
                                    "8": "50"
                                },
                                {
                                    "0": "170",
                                    "1": "File Configuration",
                                    "2": "System Database on C Drive",
                                    "3": "master",
                                    "4": "https://BrentOzar.com/go/cdrive",
                                    "5": "The master database has a file on the C drive.  Putting system databases on the C drive runs the risk of crashing the server when it runs out of space.",
                                    "6": "NULL",
                                    "7": "NULL",
                                    "8": "24"
                                },
                                {
                                    "0": "170",
                                    "1": "File Configuration",
                                    "2": "System Database on C Drive",
                                    "3": "model",
                                    "4": "https://BrentOzar.com/go/cdrive",
                                    "5": "The model database has a file on the C drive.  Putting system databases on the C drive runs the risk of crashing the server when it runs out of space.",
                                    "6": "NULL",
                                    "7": "NULL",
                                    "8": "24"
                                },
                                {
                                    "0": "170",
                                    "1": "File Configuration",
                                    "2": "System Database on C Drive",
                                    "3": "msdb",
                                    "4": "https://BrentOzar.com/go/cdrive",
                                    "5": "The msdb database has a file on the C drive.  Putting system databases on the C drive runs the risk of crashing the server when it runs out of space.",
                                    "6": "NULL",
                                    "7": "NULL",
                                    "8": "24"
                                },
                                {
                                    "0": "170",
                                    "1": "Reliability",
                                    "2": "Remote DAC Disabled",
                                    "3": "NULL",
                                    "4": "https://BrentOzar.com/go/dac",
                                    "5": "Remote access to the Dedicated Admin Connection (DAC) is not enabled. The DAC can make remote troubleshooting much easier when SQL Server is unresponsive.",
                                    "6": "NULL",
                                    "7": "NULL",
                                    "8": "100"
                                },
                                {
                                    "0": "200",
                                    "1": "Informational",
                                    "2": "Backup Compression Default Off",
                                    "3": "NULL",
                                    "4": "https://BrentOzar.com/go/backup",
                                    "5": "Uncompressed full backups have happened recently, and backup compression is not turned on at the server level. Backup compression is included with SQL Server 2008R2 & newer, even in Standard Edition. We recommend turning backup compression on by default so that ad-hoc backups will get compressed.",
                                    "6": "NULL",
                                    "7": "NULL",
                                    "8": "116"
                                },
                                {
                                    "0": "200",
                                    "1": "Informational",
                                    "2": "Linked Server Configured",
                                    "3": "NULL",
                                    "4": "https://BrentOzar.com/go/link",
                                    "5": "172.31.16.141 is configured as a linked server. Check its security configuration to make sure it isn't connecting with SA or some other bone-headed administrative login, because any user who queries it might get admin-level permissions.",
                                    "6": "NULL",
                                    "7": "NULL",
                                    "8": "49"
                                },
                                {
                                    "0": "200",
                                    "1": "Informational",
                                    "2": "Linked Server Configured",
                                    "3": "NULL",
                                    "4": "https://BrentOzar.com/go/link",
                                    "5": "172.31.16.30 is configured as a linked server. Check its security configuration to make sure it isn't connecting with SA or some other bone-headed administrative login, because any user who queries it might get admin-level permissions.",
                                    "6": "NULL",
                                    "7": "NULL",
                                    "8": "49"
                                },
                                {
                                    "0": "200",
                                    "1": "Informational",
                                    "2": "Linked Server Configured",
                                    "3": "NULL",
                                    "4": "https://BrentOzar.com/go/link",
                                    "5": "172.31.16.50 is configured as a linked server. Check its security configuration to make sure it isn't connecting with SA or some other bone-headed administrative login, because any user who queries it might get admin-level permissions.",
                                    "6": "NULL",
                                    "7": "NULL",
                                    "8": "49"
                                },
                                {
                                    "0": "200",
                                    "1": "Informational",
                                    "2": "Linked Server Configured",
                                    "3": "NULL",
                                    "4": "https://BrentOzar.com/go/link",
                                    "5": "172.31.16.57 is configured as a linked server. Check its security configuration to make sure it isn't connecting with SA or some other bone-headed administrative login, because any user who queries it might get admin-level permissions.",
                                    "6": "NULL",
                                    "7": "NULL",
                                    "8": "49"
                                },
                                {
                                    "0": "200",
                                    "1": "Informational",
                                    "2": "Linked Server Configured",
                                    "3": "NULL",
                                    "4": "https://BrentOzar.com/go/link",
                                    "5": "172.31.16.75 is configured as a linked server. Check its security configuration to make sure it isn't connecting with SA or some other bone-headed administrative login, because any user who queries it might get admin-level permissions.",
                                    "6": "NULL",
                                    "7": "NULL",
                                    "8": "49"
                                },
                                {
                                    "0": "200",
                                    "1": "Informational",
                                    "2": "Linked Server Configured",
                                    "3": "NULL",
                                    "4": "https://BrentOzar.com/go/link",
                                    "5": "172.31.16.94 is configured as a linked server. Check its security configuration to make sure it isn't connecting with SA or some other bone-headed administrative login, because any user who queries it might get admin-level permissions.",
                                    "6": "NULL",
                                    "7": "NULL",
                                    "8": "49"
                                },
                                {
                                    "0": "200",
                                    "1": "Informational",
                                    "2": "Linked Server Configured",
                                    "3": "NULL",
                                    "4": "https://BrentOzar.com/go/link",
                                    "5": "172.31.16.95 is configured as a linked server. Check its security configuration to make sure it isn't connecting with SA or some other bone-headed administrative login, because any user who queries it might get admin-level permissions.",
                                    "6": "NULL",
                                    "7": "NULL",
                                    "8": "49"
                                },
                                {
                                    "0": "200",
                                    "1": "Informational",
                                    "2": "Linked Server Configured",
                                    "3": "NULL",
                                    "4": "https://BrentOzar.com/go/link",
                                    "5": "172.31.18.18 is configured as a linked server. Check its security configuration to make sure it isn't connecting with SA or some other bone-headed administrative login, because any user who queries it might get admin-level permissions.",
                                    "6": "NULL",
                                    "7": "NULL",
                                    "8": "49"
                                },
                                {
                                    "0": "200",
                                    "1": "Informational",
                                    "2": "Linked Server Configured",
                                    "3": "NULL",
                                    "4": "https://BrentOzar.com/go/link",
                                    "5": "172.31.18.68 is configured as a linked server. Check its security configuration to make sure it isn't connecting with SA or some other bone-headed administrative login, because any user who queries it might get admin-level permissions.",
                                    "6": "NULL",
                                    "7": "NULL",
                                    "8": "49"
                                },
                                {
                                    "0": "200",
                                    "1": "Informational",
                                    "2": "Linked Server Configured",
                                    "3": "NULL",
                                    "4": "https://BrentOzar.com/go/link",
                                    "5": "196.1.115.132 is configured as a linked server. Check its security configuration to make sure it isn't connecting with SA or some other bone-headed administrative login, because any user who queries it might get admin-level permissions.",
                                    "6": "NULL",
                                    "7": "NULL",
                                    "8": "49"
                                },
                                {
                                    "0": "200",
                                    "1": "Informational",
                                    "2": "Linked Server Configured",
                                    "3": "NULL",
                                    "4": "https://BrentOzar.com/go/link",
                                    "5": "196.1.115.159 is configured as a linked server. Check its security configuration to make sure it isn't connecting with SA or some other bone-headed administrative login, because any user who queries it might get admin-level permissions.",
                                    "6": "NULL",
                                    "7": "NULL",
                                    "8": "49"
                                },
                                {
                                    "0": "200",
                                    "1": "Informational",
                                    "2": "Linked Server Configured",
                                    "3": "NULL",
                                    "4": "https://BrentOzar.com/go/link",
                                    "5": "196.1.115.167 is configured as a linked server. Check its security configuration to make sure it isn't connecting with SA or some other bone-headed administrative login, because any user who queries it might get admin-level permissions.",
                                    "6": "NULL",
                                    "7": "NULL",
                                    "8": "49"
                                },
                                {
                                    "0": "200",
                                    "1": "Informational",
                                    "2": "Linked Server Configured",
                                    "3": "NULL",
                                    "4": "https://BrentOzar.com/go/link",
                                    "5": "196.1.115.167\\KYC is configured as a linked server. Check its security configuration to make sure it isn't connecting with SA or some other bone-headed administrative login, because any user who queries it might get admin-level permissions.",
                                    "6": "NULL",
                                    "7": "NULL",
                                    "8": "49"
                                },
                                {
                                    "0": "200",
                                    "1": "Informational",
                                    "2": "Linked Server Configured",
                                    "3": "NULL",
                                    "4": "https://BrentOzar.com/go/link",
                                    "5": "196.1.115.182 is configured as a linked server. Check its security configuration to make sure it isn't connecting with SA or some other bone-headed administrative login, because any user who queries it might get admin-level permissions.",
                                    "6": "NULL",
                                    "7": "NULL",
                                    "8": "49"
                                },
                                {
                                    "0": "200",
                                    "1": "Informational",
                                    "2": "Linked Server Configured",
                                    "3": "NULL",
                                    "4": "https://BrentOzar.com/go/link",
                                    "5": "196.1.115.196 is configured as a linked server. Check its security configuration to make sure it isn't connecting with SA or some other bone-headed administrative login, because any user who queries it might get admin-level permissions.",
                                    "6": "NULL",
                                    "7": "NULL",
                                    "8": "49"
                                },
                                {
                                    "0": "200",
                                    "1": "Informational",
                                    "2": "Linked Server Configured",
                                    "3": "NULL",
                                    "4": "https://BrentOzar.com/go/link",
                                    "5": "196.1.115.197 is configured as a linked server. Check its security configuration to make sure it isn't connecting with SA or some other bone-headed administrative login, because any user who queries it might get admin-level permissions.",
                                    "6": "NULL",
                                    "7": "NULL",
                                    "8": "49"
                                },
                                {
                                    "0": "200",
                                    "1": "Informational",
                                    "2": "Linked Server Configured",
                                    "3": "NULL",
                                    "4": "https://BrentOzar.com/go/link",
                                    "5": "196.1.115.199 is configured as a linked server. Check its security configuration to make sure it isn't connecting with SA or some other bone-headed administrative login, because any user who queries it might get admin-level permissions.",
                                    "6": "NULL",
                                    "7": "NULL",
                                    "8": "49"
                                },
                                {
                                    "0": "200",
                                    "1": "Informational",
                                    "2": "Linked Server Configured",
                                    "3": "NULL",
                                    "4": "https://BrentOzar.com/go/link",
                                    "5": "196.1.115.200 is configured as a linked server. Check its security configuration to make sure it isn't connecting with SA or some other bone-headed administrative login, because any user who queries it might get admin-level permissions.",
                                    "6": "NULL",
                                    "7": "NULL",
                                    "8": "49"
                                },
                                {
                                    "0": "200",
                                    "1": "Informational",
                                    "2": "Linked Server Configured",
                                    "3": "NULL",
                                    "4": "https://BrentOzar.com/go/link",
                                    "5": "196.1.115.201 is configured as a linked server. Check its security configuration to make sure it isn't connecting with SA or some other bone-headed administrative login, because any user who queries it might get admin-level permissions.",
                                    "6": "NULL",
                                    "7": "NULL",
                                    "8": "49"
                                },
                                {
                                    "0": "200",
                                    "1": "Informational",
                                    "2": "Linked Server Configured",
                                    "3": "NULL",
                                    "4": "https://BrentOzar.com/go/link",
                                    "5": "196.1.115.207 is configured as a linked server. Check its security configuration to make sure it isn't connecting with SA or some other bone-headed administrative login, because any user who queries it might get admin-level permissions.",
                                    "6": "NULL",
                                    "7": "NULL",
                                    "8": "49"
                                },
                                {
                                    "0": "200",
                                    "1": "Informational",
                                    "2": "Linked Server Configured",
                                    "3": "NULL",
                                    "4": "https://BrentOzar.com/go/link",
                                    "5": "196.1.115.239 is configured as a linked server. Check its security configuration to make sure it isn't connecting with SA or some other bone-headed administrative login, because any user who queries it might get admin-level permissions.",
                                    "6": "NULL",
                                    "7": "NULL",
                                    "8": "49"
                                },
                                {
                                    "0": "200",
                                    "1": "Informational",
                                    "2": "Linked Server Configured",
                                    "3": "NULL",
                                    "4": "https://BrentOzar.com/go/link",
                                    "5": "196.1.115.241 is configured as a linked server. Check its security configuration to make sure it isn't connecting with SA or some other bone-headed administrative login, because any user who queries it might get admin-level permissions.",
                                    "6": "NULL",
                                    "7": "NULL",
                                    "8": "49"
                                },
                                {
                                    "0": "200",
                                    "1": "Informational",
                                    "2": "Linked Server Configured",
                                    "3": "NULL",
                                    "4": "https://BrentOzar.com/go/link",
                                    "5": "ABCSONBFC is configured as a linked server. Check its security configuration to make sure it isn't connecting with SA or some other bone-headed administrative login, because any user who queries it might get admin-level permissions.",
                                    "6": "NULL",
                                    "7": "NULL",
                                    "8": "49"
                                },
                                {
                                    "0": "200",
                                    "1": "Informational",
                                    "2": "Linked Server Configured",
                                    "3": "NULL",
                                    "4": "https://BrentOzar.com/go/link",
                                    "5": "ANAND1 is configured as a linked server. Check its security configuration to make sure it isn't connecting with SA or some other bone-headed administrative login, because any user who queries it might get admin-level permissions.",
                                    "6": "NULL",
                                    "7": "NULL",
                                    "8": "49"
                                },
                                {
                                    "0": "200",
                                    "1": "Monitoring",
                                    "2": "Agent Jobs Without Failure Emails",
                                    "3": "NULL",
                                    "4": "https://BrentOzar.com/go/alerts",
                                    "5": "The job syspolicy_purge_history has not been set up to notify an operator if it fails.",
                                    "6": "NULL",
                                    "7": "NULL",
                                    "8": "94"
                                },
                                {
                                    "0": "200",
                                    "1": "Monitoring",
                                    "2": "No Alerts for Corruption",
                                    "3": "NULL",
                                    "4": "https://BrentOzar.com/go/alert",
                                    "5": "SQL Server Agent alerts do not exist for errors 823, 824, and 825.  These three errors can give you notification about early hardware failure. Enabling them can prevent you a lot of heartbreak.",
                                    "6": "NULL",
                                    "7": "NULL",
                                    "8": "96"
                                },
                                {
                                    "0": "200",
                                    "1": "Monitoring",
                                    "2": "No Alerts for Sev 19-25",
                                    "3": "NULL",
                                    "4": "https://BrentOzar.com/go/alert",
                                    "5": "SQL Server Agent alerts do not exist for severity levels 19 through 25.  These are some very severe SQL Server errors. Knowing that these are happening may let you recover from errors faster.",
                                    "6": "NULL",
                                    "7": "NULL",
                                    "8": "61"
                                },
                                {
                                    "0": "200",
                                    "1": "Monitoring",
                                    "2": "No Failsafe Operator Configured",
                                    "3": "NULL",
                                    "4": "https://BrentOzar.com/go/failsafe",
                                    "5": "No failsafe operator is configured on this server.  This is a good idea just in-case there are issues with the [msdb] database that prevents alerting.",
                                    "6": "NULL",
                                    "7": "NULL",
                                    "8": "73"
                                },
                                {
                                    "0": "200",
                                    "1": "Monitoring",
                                    "2": "No Operators Configured/Enabled",
                                    "3": "NULL",
                                    "4": "https://BrentOzar.com/go/op",
                                    "5": "No SQL Server Agent operators (emails) have been configured.  This is a free, easy way to get notified of corruption, job failures, or major outages even before monitoring systems pick it up.",
                                    "6": "NULL",
                                    "7": "NULL",
                                    "8": "31"
                                },
                                {
                                    "0": "200",
                                    "1": "Monitoring",
                                    "2": "Not All Alerts Configured",
                                    "3": "NULL",
                                    "4": "https://BrentOzar.com/go/alert",
                                    "5": "Not all SQL Server Agent alerts have been configured.  This is a free, easy way to get notified of corruption, job failures, or major outages even before monitoring systems pick it up.",
                                    "6": "NULL",
                                    "7": "NULL",
                                    "8": "30"
                                },
                                {
                                    "0": "200",
                                    "1": "Non-Default Server Config",
                                    "2": "Agent XPs",
                                    "3": "NULL",
                                    "4": "https://BrentOzar.com/go/conf",
                                    "5": "This sp_configure option has been changed.  Its default value is 0 and it has been set to 1.",
                                    "6": "NULL",
                                    "7": "NULL",
                                    "8": "1071"
                                },
                                {
                                    "0": "200",
                                    "1": "Non-Default Server Config",
                                    "2": "max degree of parallelism",
                                    "3": "NULL",
                                    "4": "https://BrentOzar.com/go/conf",
                                    "5": "This sp_configure option has been changed.  Its default value is 0 and it has been set to 8.",
                                    "6": "NULL",
                                    "7": "NULL",
                                    "8": "1029"
                                },
                                {
                                    "0": "200",
                                    "1": "Performance",
                                    "2": "cost threshold for parallelism",
                                    "3": "NULL",
                                    "4": "https://BrentOzar.com/go/cxpacket",
                                    "5": "Set to 5, its default value. Changing this sp_configure setting may reduce CXPACKET waits.",
                                    "6": "NULL",
                                    "7": "NULL",
                                    "8": "188"
                                },
                                {
                                    "0": "200",
                                    "1": "Performance",
                                    "2": "Query Store Disabled",
                                    "3": "inhouse",
                                    "4": "https://BrentOzar.com/go/querystore",
                                    "5": "The new SQL Server 2016 Query Store feature has not been enabled on this database.",
                                    "6": "NULL",
                                    "7": "NULL",
                                    "8": "163"
                                },
                                {
                                    "0": "210",
                                    "1": "Non-Default Database Config",
                                    "2": "Broker Enabled",
                                    "3": "DMAT",
                                    "4": "https://BrentOzar.com/go/dbdefaults",
                                    "5": "This database setting is not the default.",
                                    "6": "NULL",
                                    "7": "NULL",
                                    "8": "230"
                                },
                                {
                                    "0": "210",
                                    "1": "Non-Default Database Config",
                                    "2": "Broker Enabled",
                                    "3": "inhouse",
                                    "4": "https://BrentOzar.com/go/dbdefaults",
                                    "5": "This database setting is not the default.",
                                    "6": "NULL",
                                    "7": "NULL",
                                    "8": "230"
                                },
                                {
                                    "0": "230",
                                    "1": "Security",
                                    "2": "Database Owner <> sa",
                                    "3": "DMAT",
                                    "4": "https://BrentOzar.com/go/owndb",
                                    "5": "Database name: DMAT   Owner name: ANGELTRADE\\bidba.admin",
                                    "6": "NULL",
                                    "7": "NULL",
                                    "8": "55"
                                },
                                {
                                    "0": "230",
                                    "1": "Security",
                                    "2": "Database Owner <> sa",
                                    "3": "inhouse",
                                    "4": "https://BrentOzar.com/go/owndb",
                                    "5": "Database name: inhouse   Owner name: ANGELTRADE\\bidba.admin",
                                    "6": "NULL",
                                    "7": "NULL",
                                    "8": "55"
                                },
                                {
                                    "0": "230",
                                    "1": "Security",
                                    "2": "Elevated Permissions on a Database",
                                    "3": "DMAT",
                                    "4": "https://BrentOzar.com/go/elevated",
                                    "5": "In [DMAT], user [citrus_usr]  has the role [db_accessadmin].  This user can perform tasks beyond just reading and writing data.",
                                    "6": "NULL",
                                    "7": "NULL",
                                    "8": "86"
                                },
                                {
                                    "0": "230",
                                    "1": "Security",
                                    "2": "Elevated Permissions on a Database",
                                    "3": "DMAT",
                                    "4": "https://BrentOzar.com/go/elevated",
                                    "5": "In [DMAT], user [citrus_usr]  has the role [db_ddladmin].  This user can perform tasks beyond just reading and writing data.",
                                    "6": "NULL",
                                    "7": "NULL",
                                    "8": "86"
                                },
                                {
                                    "0": "230",
                                    "1": "Security",
                                    "2": "Elevated Permissions on a Database",
                                    "3": "DMAT",
                                    "4": "https://BrentOzar.com/go/elevated",
                                    "5": "In [DMAT], user [citrus_usr]  has the role [db_owner].  This user can perform tasks beyond just reading and writing data.",
                                    "6": "NULL",
                                    "7": "NULL",
                                    "8": "86"
                                },
                                {
                                    "0": "230",
                                    "1": "Security",
                                    "2": "Elevated Permissions on a Database",
                                    "3": "DMAT",
                                    "4": "https://BrentOzar.com/go/elevated",
                                    "5": "In [DMAT], user [citrus_usr]  has the role [db_securityadmin].  This user can perform tasks beyond just reading and writing data.",
                                    "6": "NULL",
                                    "7": "NULL",
                                    "8": "86"
                                },
                                {
                                    "0": "230",
                                    "1": "Security",
                                    "2": "Elevated Permissions on a Database",
                                    "3": "DMAT",
                                    "4": "https://BrentOzar.com/go/elevated",
                                    "5": "In [DMAT], user [E31446]  has the role [db_owner].  This user can perform tasks beyond just reading and writing data.",
                                    "6": "NULL",
                                    "7": "NULL",
                                    "8": "86"
                                },
                                {
                                    "0": "230",
                                    "1": "Security",
                                    "2": "Elevated Permissions on a Database",
                                    "3": "DMAT",
                                    "4": "https://BrentOzar.com/go/elevated",
                                    "5": "In [DMAT], user [E55539]  has the role [db_owner].  This user can perform tasks beyond just reading and writing data.",
                                    "6": "NULL",
                                    "7": "NULL",
                                    "8": "86"
                                },
                                {
                                    "0": "230",
                                    "1": "Security",
                                    "2": "Elevated Permissions on a Database",
                                    "3": "DMAT",
                                    "4": "https://BrentOzar.com/go/elevated",
                                    "5": "In [DMAT], user [E82308]  has the role [db_ddladmin].  This user can perform tasks beyond just reading and writing data.",
                                    "6": "NULL",
                                    "7": "NULL",
                                    "8": "86"
                                },
                                {
                                    "0": "230",
                                    "1": "Security",
                                    "2": "Elevated Permissions on a Database",
                                    "3": "DMAT",
                                    "4": "https://BrentOzar.com/go/elevated",
                                    "5": "In [DMAT], user [E84565]  has the role [db_owner].  This user can perform tasks beyond just reading and writing data.",
                                    "6": "NULL",
                                    "7": "NULL",
                                    "8": "86"
                                },
                                {
                                    "0": "230",
                                    "1": "Security",
                                    "2": "Elevated Permissions on a Database",
                                    "3": "inhouse",
                                    "4": "https://BrentOzar.com/go/elevated",
                                    "5": "In [inhouse], user [E01089]  has the role [db_owner].  This user can perform tasks beyond just reading and writing data.",
                                    "6": "NULL",
                                    "7": "NULL",
                                    "8": "86"
                                },
                                {
                                    "0": "230",
                                    "1": "Security",
                                    "2": "Elevated Permissions on a Database",
                                    "3": "inhouse",
                                    "4": "https://BrentOzar.com/go/elevated",
                                    "5": "In [inhouse], user [E55539]  has the role [db_owner].  This user can perform tasks beyond just reading and writing data.",
                                    "6": "NULL",
                                    "7": "NULL",
                                    "8": "86"
                                },
                                {
                                    "0": "230",
                                    "1": "Security",
                                    "2": "Elevated Permissions on a Database",
                                    "3": "inhouse",
                                    "4": "https://BrentOzar.com/go/elevated",
                                    "5": "In [inhouse], user [E82308]  has the role [db_ddladmin].  This user can perform tasks beyond just reading and writing data.",
                                    "6": "NULL",
                                    "7": "NULL",
                                    "8": "86"
                                },
                                {
                                    "0": "230",
                                    "1": "Security",
                                    "2": "Elevated Permissions on a Database",
                                    "3": "inhouse",
                                    "4": "https://BrentOzar.com/go/elevated",
                                    "5": "In [inhouse], user [Inhouse]  has the role [db_owner].  This user can perform tasks beyond just reading and writing data.",
                                    "6": "NULL",
                                    "7": "NULL",
                                    "8": "86"
                                },
                                {
                                    "0": "230",
                                    "1": "Security",
                                    "2": "Invalid login defined with Windows Authentication",
                                    "3": "NULL",
                                    "4": "https://docs.microsoft.com/en-us/sql/relational-databases/system-stored-procedures/sp-validatelogins-transact-sql",
                                    "5": "Windows user or group [ANGELTRADE\\bidba.admin] is mapped to a SQL Server principal but no longer exists in the Windows environment.",
                                    "6": "NULL",
                                    "7": "NULL",
                                    "8": "2301"
                                },
                                {
                                    "0": "230",
                                    "1": "Security",
                                    "2": "Sysadmins",
                                    "3": "NULL",
                                    "4": "https://BrentOzar.com/go/sa",
                                    "5": "Login [ABMUBOUP108\\Administrator] is a sysadmin - meaning they can do absolutely anything in SQL Server, including dropping databases or hiding their tracks.",
                                    "6": "NULL",
                                    "7": "NULL",
                                    "8": "4"
                                },
                                {
                                    "0": "230",
                                    "1": "Security",
                                    "2": "Sysadmins",
                                    "3": "NULL",
                                    "4": "https://BrentOzar.com/go/sa",
                                    "5": "Login [ANGELTRADE\\bidba.admin] is a sysadmin - meaning they can do absolutely anything in SQL Server, including dropping databases or hiding their tracks.",
                                    "6": "NULL",
                                    "7": "NULL",
                                    "8": "4"
                                },
                                {
                                    "0": "230",
                                    "1": "Security",
                                    "2": "Sysadmins",
                                    "3": "NULL",
                                    "4": "https://BrentOzar.com/go/sa",
                                    "5": "Login [Bidba.Abhilash] is a sysadmin - meaning they can do absolutely anything in SQL Server, including dropping databases or hiding their tracks.",
                                    "6": "NULL",
                                    "7": "NULL",
                                    "8": "4"
                                },
                                {
                                    "0": "230",
                                    "1": "Security",
                                    "2": "Sysadmins",
                                    "3": "NULL",
                                    "4": "https://BrentOzar.com/go/sa",
                                    "5": "Login [bidba.akarsh] is a sysadmin - meaning they can do absolutely anything in SQL Server, including dropping databases or hiding their tracks.",
                                    "6": "NULL",
                                    "7": "NULL",
                                    "8": "4"
                                },
                                {
                                    "0": "230",
                                    "1": "Security",
                                    "2": "Sysadmins",
                                    "3": "NULL",
                                    "4": "https://BrentOzar.com/go/sa",
                                    "5": "Login [Bidba.aravind] is a sysadmin - meaning they can do absolutely anything in SQL Server, including dropping databases or hiding their tracks.",
                                    "6": "NULL",
                                    "7": "NULL",
                                    "8": "4"
                                },
                                {
                                    "0": "230",
                                    "1": "Security",
                                    "2": "Sysadmins",
                                    "3": "NULL",
                                    "4": "https://BrentOzar.com/go/sa",
                                    "5": "Login [Bidba.Atul] is a sysadmin - meaning they can do absolutely anything in SQL Server, including dropping databases or hiding their tracks.",
                                    "6": "NULL",
                                    "7": "NULL",
                                    "8": "4"
                                },
                                {
                                    "0": "230",
                                    "1": "Security",
                                    "2": "Sysadmins",
                                    "3": "NULL",
                                    "4": "https://BrentOzar.com/go/sa",
                                    "5": "Login [bidba.dheeraj] is a sysadmin - meaning they can do absolutely anything in SQL Server, including dropping databases or hiding their tracks.",
                                    "6": "NULL",
                                    "7": "NULL",
                                    "8": "4"
                                },
                                {
                                    "0": "230",
                                    "1": "Security",
                                    "2": "Sysadmins",
                                    "3": "NULL",
                                    "4": "https://BrentOzar.com/go/sa",
                                    "5": "Login [bidba.digambar] is a sysadmin - meaning they can do absolutely anything in SQL Server, including dropping databases or hiding their tracks.",
                                    "6": "NULL",
                                    "7": "NULL",
                                    "8": "4"
                                },
                                {
                                    "0": "230",
                                    "1": "Security",
                                    "2": "Sysadmins",
                                    "3": "NULL",
                                    "4": "https://BrentOzar.com/go/sa",
                                    "5": "Login [bidba.Dilip] is a sysadmin - meaning they can do absolutely anything in SQL Server, including dropping databases or hiding their tracks.",
                                    "6": "NULL",
                                    "7": "NULL",
                                    "8": "4"
                                },
                                {
                                    "0": "230",
                                    "1": "Security",
                                    "2": "Sysadmins",
                                    "3": "NULL",
                                    "4": "https://BrentOzar.com/go/sa",
                                    "5": "Login [bidba.harishkumar] is a sysadmin - meaning they can do absolutely anything in SQL Server, including dropping databases or hiding their tracks.",
                                    "6": "NULL",
                                    "7": "NULL",
                                    "8": "4"
                                },
                                {
                                    "0": "230",
                                    "1": "Security",
                                    "2": "Sysadmins",
                                    "3": "NULL",
                                    "4": "https://BrentOzar.com/go/sa",
                                    "5": "Login [bidba.Manikanta] is a sysadmin - meaning they can do absolutely anything in SQL Server, including dropping databases or hiding their tracks.",
                                    "6": "NULL",
                                    "7": "NULL",
                                    "8": "4"
                                },
                                {
                                    "0": "230",
                                    "1": "Security",
                                    "2": "Sysadmins",
                                    "3": "NULL",
                                    "4": "https://BrentOzar.com/go/sa",
                                    "5": "Login [bidba.omprakash] is a sysadmin - meaning they can do absolutely anything in SQL Server, including dropping databases or hiding their tracks.",
                                    "6": "NULL",
                                    "7": "NULL",
                                    "8": "4"
                                },
                                {
                                    "0": "230",
                                    "1": "Security",
                                    "2": "Sysadmins",
                                    "3": "NULL",
                                    "4": "https://BrentOzar.com/go/sa",
                                    "5": "Login [bidba.prabha] is a sysadmin - meaning they can do absolutely anything in SQL Server, including dropping databases or hiding their tracks.",
                                    "6": "NULL",
                                    "7": "NULL",
                                    "8": "4"
                                },
                                {
                                    "0": "230",
                                    "1": "Security",
                                    "2": "Sysadmins",
                                    "3": "NULL",
                                    "4": "https://BrentOzar.com/go/sa",
                                    "5": "Login [bidba.Prashant] is a sysadmin - meaning they can do absolutely anything in SQL Server, including dropping databases or hiding their tracks.",
                                    "6": "NULL",
                                    "7": "NULL",
                                    "8": "4"
                                },
                                {
                                    "0": "230",
                                    "1": "Security",
                                    "2": "Sysadmins",
                                    "3": "NULL",
                                    "4": "https://BrentOzar.com/go/sa",
                                    "5": "Login [Bidba.Siva] is a sysadmin - meaning they can do absolutely anything in SQL Server, including dropping databases or hiding their tracks.",
                                    "6": "NULL",
                                    "7": "NULL",
                                    "8": "4"
                                },
                                {
                                    "0": "230",
                                    "1": "Security",
                                    "2": "Sysadmins",
                                    "3": "NULL",
                                    "4": "https://BrentOzar.com/go/sa",
                                    "5": "Login [Bidba.sowhardh] is a sysadmin - meaning they can do absolutely anything in SQL Server, including dropping databases or hiding their tracks.",
                                    "6": "NULL",
                                    "7": "NULL",
                                    "8": "4"
                                },
                                {
                                    "0": "230",
                                    "1": "Security",
                                    "2": "Sysadmins",
                                    "3": "NULL",
                                    "4": "https://BrentOzar.com/go/sa",
                                    "5": "Login [Bidba.Sushant] is a sysadmin - meaning they can do absolutely anything in SQL Server, including dropping databases or hiding their tracks.",
                                    "6": "NULL",
                                    "7": "NULL",
                                    "8": "4"
                                },
                                {
                                    "0": "230",
                                    "1": "Security",
                                    "2": "Sysadmins",
                                    "3": "NULL",
                                    "4": "https://BrentOzar.com/go/sa",
                                    "5": "Login [bidba.vivek] is a sysadmin - meaning they can do absolutely anything in SQL Server, including dropping databases or hiding their tracks.",
                                    "6": "NULL",
                                    "7": "NULL",
                                    "8": "4"
                                },
                                {
                                    "0": "230",
                                    "1": "Security",
                                    "2": "Sysadmins",
                                    "3": "NULL",
                                    "4": "https://BrentOzar.com/go/sa",
                                    "5": "Login [Bidba.yogesh] is a sysadmin - meaning they can do absolutely anything in SQL Server, including dropping databases or hiding their tracks.",
                                    "6": "NULL",
                                    "7": "NULL",
                                    "8": "4"
                                },
                                {
                                    "0": "230",
                                    "1": "Security",
                                    "2": "Sysadmins",
                                    "3": "NULL",
                                    "4": "https://BrentOzar.com/go/sa",
                                    "5": "Login [dpa] is a sysadmin - meaning they can do absolutely anything in SQL Server, including dropping databases or hiding their tracks.",
                                    "6": "NULL",
                                    "7": "NULL",
                                    "8": "4"
                                },
                                {
                                    "0": "230",
                                    "1": "Security",
                                    "2": "Sysadmins",
                                    "3": "NULL",
                                    "4": "https://BrentOzar.com/go/sa",
                                    "5": "Login [E48340] is a sysadmin - meaning they can do absolutely anything in SQL Server, including dropping databases or hiding their tracks.",
                                    "6": "NULL",
                                    "7": "NULL",
                                    "8": "4"
                                },
                                {
                                    "0": "230",
                                    "1": "Security",
                                    "2": "Sysadmins",
                                    "3": "NULL",
                                    "4": "https://BrentOzar.com/go/sa",
                                    "5": "Login [E84599] is a sysadmin - meaning they can do absolutely anything in SQL Server, including dropping databases or hiding their tracks.",
                                    "6": "NULL",
                                    "7": "NULL",
                                    "8": "4"
                                },
                                {
                                    "0": "230",
                                    "1": "Security",
                                    "2": "Sysadmins",
                                    "3": "NULL",
                                    "4": "https://BrentOzar.com/go/sa",
                                    "5": "Login [E84947] is a sysadmin - meaning they can do absolutely anything in SQL Server, including dropping databases or hiding their tracks.",
                                    "6": "NULL",
                                    "7": "NULL",
                                    "8": "4"
                                },
                                {
                                    "0": "230",
                                    "1": "Security",
                                    "2": "Sysadmins",
                                    "3": "NULL",
                                    "4": "https://BrentOzar.com/go/sa",
                                    "5": "Login [inhouse_link] is a sysadmin - meaning they can do absolutely anything in SQL Server, including dropping databases or hiding their tracks.",
                                    "6": "NULL",
                                    "7": "NULL",
                                    "8": "4"
                                },
                                {
                                    "0": "230",
                                    "1": "Security",
                                    "2": "Sysadmins",
                                    "3": "NULL",
                                    "4": "https://BrentOzar.com/go/sa",
                                    "5": "Login [JobAdmin] is a sysadmin - meaning they can do absolutely anything in SQL Server, including dropping databases or hiding their tracks.",
                                    "6": "NULL",
                                    "7": "NULL",
                                    "8": "4"
                                },
                                {
                                    "0": "230",
                                    "1": "Security",
                                    "2": "Sysadmins",
                                    "3": "NULL",
                                    "4": "https://BrentOzar.com/go/sa",
                                    "5": "Login [LinkAdmin] is a sysadmin - meaning they can do absolutely anything in SQL Server, including dropping databases or hiding their tracks.",
                                    "6": "NULL",
                                    "7": "NULL",
                                    "8": "4"
                                },
                                {
                                    "0": "230",
                                    "1": "Security",
                                    "2": "Sysadmins",
                                    "3": "NULL",
                                    "4": "https://BrentOzar.com/go/sa",
                                    "5": "Login [LogShip_Usr] is a sysadmin - meaning they can do absolutely anything in SQL Server, including dropping databases or hiding their tracks.",
                                    "6": "NULL",
                                    "7": "NULL",
                                    "8": "4"
                                },
                                {
                                    "0": "230",
                                    "1": "Security",
                                    "2": "Sysadmins",
                                    "3": "NULL",
                                    "4": "https://BrentOzar.com/go/sa",
                                    "5": "Login [Misadmin] is a sysadmin - meaning they can do absolutely anything in SQL Server, including dropping databases or hiding their tracks.",
                                    "6": "NULL",
                                    "7": "NULL",
                                    "8": "4"
                                },
                                {
                                    "0": "230",
                                    "1": "Security",
                                    "2": "Sysadmins",
                                    "3": "NULL",
                                    "4": "https://BrentOzar.com/go/sa",
                                    "5": "Login [NOC_Rishikesh] is a sysadmin - meaning they can do absolutely anything in SQL Server, including dropping databases or hiding their tracks.",
                                    "6": "NULL",
                                    "7": "NULL",
                                    "8": "4"
                                },
                                {
                                    "0": "230",
                                    "1": "Security",
                                    "2": "Sysadmins",
                                    "3": "NULL",
                                    "4": "https://BrentOzar.com/go/sa",
                                    "5": "Login [REPL] is a sysadmin - meaning they can do absolutely anything in SQL Server, including dropping databases or hiding their tracks.",
                                    "6": "NULL",
                                    "7": "NULL",
                                    "8": "4"
                                },
                                {
                                    "0": "230",
                                    "1": "Security",
                                    "2": "Sysadmins",
                                    "3": "NULL",
                                    "4": "https://BrentOzar.com/go/sa",
                                    "5": "Login [SL_CS0125] is a sysadmin - meaning they can do absolutely anything in SQL Server, including dropping databases or hiding their tracks.",
                                    "6": "NULL",
                                    "7": "NULL",
                                    "8": "4"
                                },
                                {
                                    "0": "230",
                                    "1": "Security",
                                    "2": "Sysadmins",
                                    "3": "NULL",
                                    "4": "https://BrentOzar.com/go/sa",
                                    "5": "Login [SL_CS0126] is a sysadmin - meaning they can do absolutely anything in SQL Server, including dropping databases or hiding their tracks.",
                                    "6": "NULL",
                                    "7": "NULL",
                                    "8": "4"
                                },
                                {
                                    "0": "230",
                                    "1": "Security",
                                    "2": "Sysadmins",
                                    "3": "NULL",
                                    "4": "https://BrentOzar.com/go/sa",
                                    "5": "Login [SL_CS0127] is a sysadmin - meaning they can do absolutely anything in SQL Server, including dropping databases or hiding their tracks.",
                                    "6": "NULL",
                                    "7": "NULL",
                                    "8": "4"
                                },
                                {
                                    "0": "230",
                                    "1": "Security",
                                    "2": "Sysadmins",
                                    "3": "NULL",
                                    "4": "https://BrentOzar.com/go/sa",
                                    "5": "Login [SL_CS0128] is a sysadmin - meaning they can do absolutely anything in SQL Server, including dropping databases or hiding their tracks.",
                                    "6": "NULL",
                                    "7": "NULL",
                                    "8": "4"
                                },
                                {
                                    "0": "230",
                                    "1": "Security",
                                    "2": "Sysadmins",
                                    "3": "NULL",
                                    "4": "https://BrentOzar.com/go/sa",
                                    "5": "Login [SL_CS0129] is a sysadmin - meaning they can do absolutely anything in SQL Server, including dropping databases or hiding their tracks.",
                                    "6": "NULL",
                                    "7": "NULL",
                                    "8": "4"
                                },
                                {
                                    "0": "230",
                                    "1": "Security",
                                    "2": "Sysadmins",
                                    "3": "NULL",
                                    "4": "https://BrentOzar.com/go/sa",
                                    "5": "Login [SL_CS0130] is a sysadmin - meaning they can do absolutely anything in SQL Server, including dropping databases or hiding their tracks.",
                                    "6": "NULL",
                                    "7": "NULL",
                                    "8": "4"
                                },
                                {
                                    "0": "230",
                                    "1": "Security",
                                    "2": "Sysadmins",
                                    "3": "NULL",
                                    "4": "https://BrentOzar.com/go/sa",
                                    "5": "Login [SL_CS0131] is a sysadmin - meaning they can do absolutely anything in SQL Server, including dropping databases or hiding their tracks.",
                                    "6": "NULL",
                                    "7": "NULL",
                                    "8": "4"
                                },
                                {
                                    "0": "230",
                                    "1": "Security",
                                    "2": "Sysadmins",
                                    "3": "NULL",
                                    "4": "https://BrentOzar.com/go/sa",
                                    "5": "Login [SL_CS0133] is a sysadmin - meaning they can do absolutely anything in SQL Server, including dropping databases or hiding their tracks.",
                                    "6": "NULL",
                                    "7": "NULL",
                                    "8": "4"
                                },
                                {
                                    "0": "230",
                                    "1": "Security",
                                    "2": "Sysadmins",
                                    "3": "NULL",
                                    "4": "https://BrentOzar.com/go/sa",
                                    "5": "Login [SL_CS0147] is a sysadmin - meaning they can do absolutely anything in SQL Server, including dropping databases or hiding their tracks.",
                                    "6": "NULL",
                                    "7": "NULL",
                                    "8": "4"
                                },
                                {
                                    "0": "230",
                                    "1": "Security",
                                    "2": "Sysadmins",
                                    "3": "NULL",
                                    "4": "https://BrentOzar.com/go/sa",
                                    "5": "Login [test_login] is a sysadmin - meaning they can do absolutely anything in SQL Server, including dropping databases or hiding their tracks.",
                                    "6": "NULL",
                                    "7": "NULL",
                                    "8": "4"
                                },
                                {
                                    "0": "253",
                                    "1": "First Responder Kit",
                                    "2": "Component Outdated: [master].[dbo].[sp_BlitzBackups]",
                                    "3": "NULL",
                                    "4": "http://FirstResponderKit.org",
                                    "5": "Download and install the latest First Responder Kit - you're running some older code, and it doesn't get better with age.",
                                    "6": "NULL",
                                    "7": "NULL",
                                    "8": "228"
                                },
                                {
                                    "0": "253",
                                    "1": "First Responder Kit",
                                    "2": "Component Outdated: [master].[dbo].[sp_BlitzCache]",
                                    "3": "NULL",
                                    "4": "http://FirstResponderKit.org",
                                    "5": "Download and install the latest First Responder Kit - you're running some older code, and it doesn't get better with age.",
                                    "6": "NULL",
                                    "7": "NULL",
                                    "8": "228"
                                },
                                {
                                    "0": "253",
                                    "1": "First Responder Kit",
                                    "2": "Component Outdated: [master].[dbo].[sp_BlitzFirst]",
                                    "3": "NULL",
                                    "4": "http://FirstResponderKit.org",
                                    "5": "Download and install the latest First Responder Kit - you're running some older code, and it doesn't get better with age.",
                                    "6": "NULL",
                                    "7": "NULL",
                                    "8": "228"
                                },
                                {
                                    "0": "253",
                                    "1": "First Responder Kit",
                                    "2": "Component Outdated: [master].[dbo].[sp_BlitzIndex]",
                                    "3": "NULL",
                                    "4": "http://FirstResponderKit.org",
                                    "5": "Download and install the latest First Responder Kit - you're running some older code, and it doesn't get better with age.",
                                    "6": "NULL",
                                    "7": "NULL",
                                    "8": "228"
                                },
                                {
                                    "0": "253",
                                    "1": "First Responder Kit",
                                    "2": "Component Outdated: [master].[dbo].[sp_BlitzLock]",
                                    "3": "NULL",
                                    "4": "http://FirstResponderKit.org",
                                    "5": "Download and install the latest First Responder Kit - you're running some older code, and it doesn't get better with age.",
                                    "6": "NULL",
                                    "7": "NULL",
                                    "8": "228"
                                },
                                {
                                    "0": "253",
                                    "1": "First Responder Kit",
                                    "2": "Component Outdated: [master].[dbo].[sp_BlitzWho]",
                                    "3": "NULL",
                                    "4": "http://FirstResponderKit.org",
                                    "5": "Download and install the latest First Responder Kit - you're running some older code, and it doesn't get better with age.",
                                    "6": "NULL",
                                    "7": "NULL",
                                    "8": "228"
                                },
                                {
                                    "0": "254",
                                    "1": "Rundate",
                                    "2": "Mar 25 2022 10:36AM",
                                    "3": "NULL",
                                    "4": "http://FirstResponderKit.org/",
                                    "5": "Captain's log: stardate something and something...",
                                    "6": "NULL",
                                    "7": "NULL",
                                    "8": "156"
                                },
                                {
                                    "0": "255",
                                    "1": "Thanks!",
                                    "2": "From Your Community Volunteers",
                                    "3": "NULL",
                                    "4": "http://FirstResponderKit.org",
                                    "5": "We hope you found this tool useful.",
                                    "6": "NULL",
                                    "7": "NULL",
                                    "8": "-1"
                                }
                            ]
                        },
                        "text/html": [
                            "<table>",
                            "<tr><th>Priority</th><th>FindingsGroup</th><th>Finding</th><th>DatabaseName</th><th>URL</th><th>Details</th><th>QueryPlan</th><th>QueryPlanFiltered</th><th>CheckID</th></tr>",
                            "<tr><td>0</td><td>Outdated sp_Blitz</td><td>sp_Blitz is Over 6 Months Old</td><td>NULL</td><td>http://FirstResponderKit.org/</td><td>Some things get better with age, like fine wine and your T-SQL. However, sp_Blitz is not one of those things - time to go download the current one.</td><td>NULL</td><td>NULL</td><td>155</td></tr>",
                            "<tr><td>0</td><td>sp_Blitz Sep 13 2020 12:00AM</td><td>SQL Server First Responder Kit</td><td>NULL</td><td>http://FirstResponderKit.org/</td><td>To get help or add your own contributions, join us at http://FirstResponderKit.org.</td><td>NULL</td><td>NULL</td><td>-1</td></tr>",
                            "<tr><td>1</td><td>Reliability</td><td>Last good DBCC CHECKDB over 2 weeks old</td><td>DMAT</td><td>https://BrentOzar.com/go/checkdb</td><td>Last successful CHECKDB:  never.</td><td>NULL</td><td>NULL</td><td>68</td></tr>",
                            "<tr><td>1</td><td>Reliability</td><td>Last good DBCC CHECKDB over 2 weeks old</td><td>inhouse</td><td>https://BrentOzar.com/go/checkdb</td><td>Last successful CHECKDB:  never.</td><td>NULL</td><td>NULL</td><td>68</td></tr>",
                            "<tr><td>1</td><td>Reliability</td><td>Last good DBCC CHECKDB over 2 weeks old</td><td>master</td><td>https://BrentOzar.com/go/checkdb</td><td>Last successful CHECKDB:  never.</td><td>NULL</td><td>NULL</td><td>68</td></tr>",
                            "<tr><td>1</td><td>Reliability</td><td>Last good DBCC CHECKDB over 2 weeks old</td><td>model</td><td>https://BrentOzar.com/go/checkdb</td><td>Last successful CHECKDB:  never.</td><td>NULL</td><td>NULL</td><td>68</td></tr>",
                            "<tr><td>1</td><td>Reliability</td><td>Last good DBCC CHECKDB over 2 weeks old</td><td>msdb</td><td>https://BrentOzar.com/go/checkdb</td><td>Last successful CHECKDB:  never.</td><td>NULL</td><td>NULL</td><td>68</td></tr>",
                            "<tr><td>20</td><td>Reliability</td><td>Memory Dumps Have Occurred</td><td>NULL</td><td>https://BrentOzar.com/go/dump</td><td>That ain't good. I've had 7 memory dumps between Jan 15 2022 11:02AM and Jan 22 2022 12:37PM!</td><td>NULL</td><td>NULL</td><td>171</td></tr>",
                            "<tr><td>50</td><td>Performance</td><td>Poison Wait Detected: THREADPOOL</td><td>NULL</td><td>https://BrentOzar.com/go/poison/#THREADPOOL</td><td>0:06:29:30 of this wait have been recorded. This wait often indicates killer performance problems.</td><td>NULL</td><td>NULL</td><td>107</td></tr>",
                            "<tr><td>100</td><td>Performance</td><td>Many Plans for One Query</td><td>NULL</td><td>https://BrentOzar.com/go/parameterization</td><td>39420 plans are present for a single query in the plan cache - meaning we probably have parameterization issues.</td><td>NULL</td><td>NULL</td><td>160</td></tr>",
                            "<tr><td>100</td><td>Performance</td><td>Max Memory Set Too High</td><td>NULL</td><td>https://BrentOzar.com/go/max</td><td>SQL Server max memory is set to 2147483647 megabytes, but the server only has 202751 megabytes.  SQL Server may drain the system dry of memory, and under certain conditions, this can cause Windows to swap to disk.</td><td>NULL</td><td>NULL</td><td>50</td></tr>",
                            "<tr><td>170</td><td>File Configuration</td><td>System Database on C Drive</td><td>master</td><td>https://BrentOzar.com/go/cdrive</td><td>The master database has a file on the C drive.  Putting system databases on the C drive runs the risk of crashing the server when it runs out of space.</td><td>NULL</td><td>NULL</td><td>24</td></tr>",
                            "<tr><td>170</td><td>File Configuration</td><td>System Database on C Drive</td><td>model</td><td>https://BrentOzar.com/go/cdrive</td><td>The model database has a file on the C drive.  Putting system databases on the C drive runs the risk of crashing the server when it runs out of space.</td><td>NULL</td><td>NULL</td><td>24</td></tr>",
                            "<tr><td>170</td><td>File Configuration</td><td>System Database on C Drive</td><td>msdb</td><td>https://BrentOzar.com/go/cdrive</td><td>The msdb database has a file on the C drive.  Putting system databases on the C drive runs the risk of crashing the server when it runs out of space.</td><td>NULL</td><td>NULL</td><td>24</td></tr>",
                            "<tr><td>170</td><td>Reliability</td><td>Remote DAC Disabled</td><td>NULL</td><td>https://BrentOzar.com/go/dac</td><td>Remote access to the Dedicated Admin Connection (DAC) is not enabled. The DAC can make remote troubleshooting much easier when SQL Server is unresponsive.</td><td>NULL</td><td>NULL</td><td>100</td></tr>",
                            "<tr><td>200</td><td>Informational</td><td>Backup Compression Default Off</td><td>NULL</td><td>https://BrentOzar.com/go/backup</td><td>Uncompressed full backups have happened recently, and backup compression is not turned on at the server level. Backup compression is included with SQL Server 2008R2 &amp; newer, even in Standard Edition. We recommend turning backup compression on by default so that ad-hoc backups will get compressed.</td><td>NULL</td><td>NULL</td><td>116</td></tr>",
                            "<tr><td>200</td><td>Informational</td><td>Linked Server Configured</td><td>NULL</td><td>https://BrentOzar.com/go/link</td><td>172.31.16.141 is configured as a linked server. Check its security configuration to make sure it isn't connecting with SA or some other bone-headed administrative login, because any user who queries it might get admin-level permissions.</td><td>NULL</td><td>NULL</td><td>49</td></tr>",
                            "<tr><td>200</td><td>Informational</td><td>Linked Server Configured</td><td>NULL</td><td>https://BrentOzar.com/go/link</td><td>172.31.16.30 is configured as a linked server. Check its security configuration to make sure it isn't connecting with SA or some other bone-headed administrative login, because any user who queries it might get admin-level permissions.</td><td>NULL</td><td>NULL</td><td>49</td></tr>",
                            "<tr><td>200</td><td>Informational</td><td>Linked Server Configured</td><td>NULL</td><td>https://BrentOzar.com/go/link</td><td>172.31.16.50 is configured as a linked server. Check its security configuration to make sure it isn't connecting with SA or some other bone-headed administrative login, because any user who queries it might get admin-level permissions.</td><td>NULL</td><td>NULL</td><td>49</td></tr>",
                            "<tr><td>200</td><td>Informational</td><td>Linked Server Configured</td><td>NULL</td><td>https://BrentOzar.com/go/link</td><td>172.31.16.57 is configured as a linked server. Check its security configuration to make sure it isn't connecting with SA or some other bone-headed administrative login, because any user who queries it might get admin-level permissions.</td><td>NULL</td><td>NULL</td><td>49</td></tr>",
                            "<tr><td>200</td><td>Informational</td><td>Linked Server Configured</td><td>NULL</td><td>https://BrentOzar.com/go/link</td><td>172.31.16.75 is configured as a linked server. Check its security configuration to make sure it isn't connecting with SA or some other bone-headed administrative login, because any user who queries it might get admin-level permissions.</td><td>NULL</td><td>NULL</td><td>49</td></tr>",
                            "<tr><td>200</td><td>Informational</td><td>Linked Server Configured</td><td>NULL</td><td>https://BrentOzar.com/go/link</td><td>172.31.16.94 is configured as a linked server. Check its security configuration to make sure it isn't connecting with SA or some other bone-headed administrative login, because any user who queries it might get admin-level permissions.</td><td>NULL</td><td>NULL</td><td>49</td></tr>",
                            "<tr><td>200</td><td>Informational</td><td>Linked Server Configured</td><td>NULL</td><td>https://BrentOzar.com/go/link</td><td>172.31.16.95 is configured as a linked server. Check its security configuration to make sure it isn't connecting with SA or some other bone-headed administrative login, because any user who queries it might get admin-level permissions.</td><td>NULL</td><td>NULL</td><td>49</td></tr>",
                            "<tr><td>200</td><td>Informational</td><td>Linked Server Configured</td><td>NULL</td><td>https://BrentOzar.com/go/link</td><td>172.31.18.18 is configured as a linked server. Check its security configuration to make sure it isn't connecting with SA or some other bone-headed administrative login, because any user who queries it might get admin-level permissions.</td><td>NULL</td><td>NULL</td><td>49</td></tr>",
                            "<tr><td>200</td><td>Informational</td><td>Linked Server Configured</td><td>NULL</td><td>https://BrentOzar.com/go/link</td><td>172.31.18.68 is configured as a linked server. Check its security configuration to make sure it isn't connecting with SA or some other bone-headed administrative login, because any user who queries it might get admin-level permissions.</td><td>NULL</td><td>NULL</td><td>49</td></tr>",
                            "<tr><td>200</td><td>Informational</td><td>Linked Server Configured</td><td>NULL</td><td>https://BrentOzar.com/go/link</td><td>196.1.115.132 is configured as a linked server. Check its security configuration to make sure it isn't connecting with SA or some other bone-headed administrative login, because any user who queries it might get admin-level permissions.</td><td>NULL</td><td>NULL</td><td>49</td></tr>",
                            "<tr><td>200</td><td>Informational</td><td>Linked Server Configured</td><td>NULL</td><td>https://BrentOzar.com/go/link</td><td>196.1.115.159 is configured as a linked server. Check its security configuration to make sure it isn't connecting with SA or some other bone-headed administrative login, because any user who queries it might get admin-level permissions.</td><td>NULL</td><td>NULL</td><td>49</td></tr>",
                            "<tr><td>200</td><td>Informational</td><td>Linked Server Configured</td><td>NULL</td><td>https://BrentOzar.com/go/link</td><td>196.1.115.167 is configured as a linked server. Check its security configuration to make sure it isn't connecting with SA or some other bone-headed administrative login, because any user who queries it might get admin-level permissions.</td><td>NULL</td><td>NULL</td><td>49</td></tr>",
                            "<tr><td>200</td><td>Informational</td><td>Linked Server Configured</td><td>NULL</td><td>https://BrentOzar.com/go/link</td><td>196.1.115.167\\KYC is configured as a linked server. Check its security configuration to make sure it isn't connecting with SA or some other bone-headed administrative login, because any user who queries it might get admin-level permissions.</td><td>NULL</td><td>NULL</td><td>49</td></tr>",
                            "<tr><td>200</td><td>Informational</td><td>Linked Server Configured</td><td>NULL</td><td>https://BrentOzar.com/go/link</td><td>196.1.115.182 is configured as a linked server. Check its security configuration to make sure it isn't connecting with SA or some other bone-headed administrative login, because any user who queries it might get admin-level permissions.</td><td>NULL</td><td>NULL</td><td>49</td></tr>",
                            "<tr><td>200</td><td>Informational</td><td>Linked Server Configured</td><td>NULL</td><td>https://BrentOzar.com/go/link</td><td>196.1.115.196 is configured as a linked server. Check its security configuration to make sure it isn't connecting with SA or some other bone-headed administrative login, because any user who queries it might get admin-level permissions.</td><td>NULL</td><td>NULL</td><td>49</td></tr>",
                            "<tr><td>200</td><td>Informational</td><td>Linked Server Configured</td><td>NULL</td><td>https://BrentOzar.com/go/link</td><td>196.1.115.197 is configured as a linked server. Check its security configuration to make sure it isn't connecting with SA or some other bone-headed administrative login, because any user who queries it might get admin-level permissions.</td><td>NULL</td><td>NULL</td><td>49</td></tr>",
                            "<tr><td>200</td><td>Informational</td><td>Linked Server Configured</td><td>NULL</td><td>https://BrentOzar.com/go/link</td><td>196.1.115.199 is configured as a linked server. Check its security configuration to make sure it isn't connecting with SA or some other bone-headed administrative login, because any user who queries it might get admin-level permissions.</td><td>NULL</td><td>NULL</td><td>49</td></tr>",
                            "<tr><td>200</td><td>Informational</td><td>Linked Server Configured</td><td>NULL</td><td>https://BrentOzar.com/go/link</td><td>196.1.115.200 is configured as a linked server. Check its security configuration to make sure it isn't connecting with SA or some other bone-headed administrative login, because any user who queries it might get admin-level permissions.</td><td>NULL</td><td>NULL</td><td>49</td></tr>",
                            "<tr><td>200</td><td>Informational</td><td>Linked Server Configured</td><td>NULL</td><td>https://BrentOzar.com/go/link</td><td>196.1.115.201 is configured as a linked server. Check its security configuration to make sure it isn't connecting with SA or some other bone-headed administrative login, because any user who queries it might get admin-level permissions.</td><td>NULL</td><td>NULL</td><td>49</td></tr>",
                            "<tr><td>200</td><td>Informational</td><td>Linked Server Configured</td><td>NULL</td><td>https://BrentOzar.com/go/link</td><td>196.1.115.207 is configured as a linked server. Check its security configuration to make sure it isn't connecting with SA or some other bone-headed administrative login, because any user who queries it might get admin-level permissions.</td><td>NULL</td><td>NULL</td><td>49</td></tr>",
                            "<tr><td>200</td><td>Informational</td><td>Linked Server Configured</td><td>NULL</td><td>https://BrentOzar.com/go/link</td><td>196.1.115.239 is configured as a linked server. Check its security configuration to make sure it isn't connecting with SA or some other bone-headed administrative login, because any user who queries it might get admin-level permissions.</td><td>NULL</td><td>NULL</td><td>49</td></tr>",
                            "<tr><td>200</td><td>Informational</td><td>Linked Server Configured</td><td>NULL</td><td>https://BrentOzar.com/go/link</td><td>196.1.115.241 is configured as a linked server. Check its security configuration to make sure it isn't connecting with SA or some other bone-headed administrative login, because any user who queries it might get admin-level permissions.</td><td>NULL</td><td>NULL</td><td>49</td></tr>",
                            "<tr><td>200</td><td>Informational</td><td>Linked Server Configured</td><td>NULL</td><td>https://BrentOzar.com/go/link</td><td>ABCSONBFC is configured as a linked server. Check its security configuration to make sure it isn't connecting with SA or some other bone-headed administrative login, because any user who queries it might get admin-level permissions.</td><td>NULL</td><td>NULL</td><td>49</td></tr>",
                            "<tr><td>200</td><td>Informational</td><td>Linked Server Configured</td><td>NULL</td><td>https://BrentOzar.com/go/link</td><td>ANAND1 is configured as a linked server. Check its security configuration to make sure it isn't connecting with SA or some other bone-headed administrative login, because any user who queries it might get admin-level permissions.</td><td>NULL</td><td>NULL</td><td>49</td></tr>",
                            "<tr><td>200</td><td>Monitoring</td><td>Agent Jobs Without Failure Emails</td><td>NULL</td><td>https://BrentOzar.com/go/alerts</td><td>The job syspolicy_purge_history has not been set up to notify an operator if it fails.</td><td>NULL</td><td>NULL</td><td>94</td></tr>",
                            "<tr><td>200</td><td>Monitoring</td><td>No Alerts for Corruption</td><td>NULL</td><td>https://BrentOzar.com/go/alert</td><td>SQL Server Agent alerts do not exist for errors 823, 824, and 825.  These three errors can give you notification about early hardware failure. Enabling them can prevent you a lot of heartbreak.</td><td>NULL</td><td>NULL</td><td>96</td></tr>",
                            "<tr><td>200</td><td>Monitoring</td><td>No Alerts for Sev 19-25</td><td>NULL</td><td>https://BrentOzar.com/go/alert</td><td>SQL Server Agent alerts do not exist for severity levels 19 through 25.  These are some very severe SQL Server errors. Knowing that these are happening may let you recover from errors faster.</td><td>NULL</td><td>NULL</td><td>61</td></tr>",
                            "<tr><td>200</td><td>Monitoring</td><td>No Failsafe Operator Configured</td><td>NULL</td><td>https://BrentOzar.com/go/failsafe</td><td>No failsafe operator is configured on this server.  This is a good idea just in-case there are issues with the [msdb] database that prevents alerting.</td><td>NULL</td><td>NULL</td><td>73</td></tr>",
                            "<tr><td>200</td><td>Monitoring</td><td>No Operators Configured/Enabled</td><td>NULL</td><td>https://BrentOzar.com/go/op</td><td>No SQL Server Agent operators (emails) have been configured.  This is a free, easy way to get notified of corruption, job failures, or major outages even before monitoring systems pick it up.</td><td>NULL</td><td>NULL</td><td>31</td></tr>",
                            "<tr><td>200</td><td>Monitoring</td><td>Not All Alerts Configured</td><td>NULL</td><td>https://BrentOzar.com/go/alert</td><td>Not all SQL Server Agent alerts have been configured.  This is a free, easy way to get notified of corruption, job failures, or major outages even before monitoring systems pick it up.</td><td>NULL</td><td>NULL</td><td>30</td></tr>",
                            "<tr><td>200</td><td>Non-Default Server Config</td><td>Agent XPs</td><td>NULL</td><td>https://BrentOzar.com/go/conf</td><td>This sp_configure option has been changed.  Its default value is 0 and it has been set to 1.</td><td>NULL</td><td>NULL</td><td>1071</td></tr>",
                            "<tr><td>200</td><td>Non-Default Server Config</td><td>max degree of parallelism</td><td>NULL</td><td>https://BrentOzar.com/go/conf</td><td>This sp_configure option has been changed.  Its default value is 0 and it has been set to 8.</td><td>NULL</td><td>NULL</td><td>1029</td></tr>",
                            "<tr><td>200</td><td>Performance</td><td>cost threshold for parallelism</td><td>NULL</td><td>https://BrentOzar.com/go/cxpacket</td><td>Set to 5, its default value. Changing this sp_configure setting may reduce CXPACKET waits.</td><td>NULL</td><td>NULL</td><td>188</td></tr>",
                            "<tr><td>200</td><td>Performance</td><td>Query Store Disabled</td><td>inhouse</td><td>https://BrentOzar.com/go/querystore</td><td>The new SQL Server 2016 Query Store feature has not been enabled on this database.</td><td>NULL</td><td>NULL</td><td>163</td></tr>",
                            "<tr><td>210</td><td>Non-Default Database Config</td><td>Broker Enabled</td><td>DMAT</td><td>https://BrentOzar.com/go/dbdefaults</td><td>This database setting is not the default.</td><td>NULL</td><td>NULL</td><td>230</td></tr>",
                            "<tr><td>210</td><td>Non-Default Database Config</td><td>Broker Enabled</td><td>inhouse</td><td>https://BrentOzar.com/go/dbdefaults</td><td>This database setting is not the default.</td><td>NULL</td><td>NULL</td><td>230</td></tr>",
                            "<tr><td>230</td><td>Security</td><td>Database Owner &lt;&gt; sa</td><td>DMAT</td><td>https://BrentOzar.com/go/owndb</td><td>Database name: DMAT   Owner name: ANGELTRADE\\bidba.admin</td><td>NULL</td><td>NULL</td><td>55</td></tr>",
                            "<tr><td>230</td><td>Security</td><td>Database Owner &lt;&gt; sa</td><td>inhouse</td><td>https://BrentOzar.com/go/owndb</td><td>Database name: inhouse   Owner name: ANGELTRADE\\bidba.admin</td><td>NULL</td><td>NULL</td><td>55</td></tr>",
                            "<tr><td>230</td><td>Security</td><td>Elevated Permissions on a Database</td><td>DMAT</td><td>https://BrentOzar.com/go/elevated</td><td>In [DMAT], user [citrus_usr]  has the role [db_accessadmin].  This user can perform tasks beyond just reading and writing data.</td><td>NULL</td><td>NULL</td><td>86</td></tr>",
                            "<tr><td>230</td><td>Security</td><td>Elevated Permissions on a Database</td><td>DMAT</td><td>https://BrentOzar.com/go/elevated</td><td>In [DMAT], user [citrus_usr]  has the role [db_ddladmin].  This user can perform tasks beyond just reading and writing data.</td><td>NULL</td><td>NULL</td><td>86</td></tr>",
                            "<tr><td>230</td><td>Security</td><td>Elevated Permissions on a Database</td><td>DMAT</td><td>https://BrentOzar.com/go/elevated</td><td>In [DMAT], user [citrus_usr]  has the role [db_owner].  This user can perform tasks beyond just reading and writing data.</td><td>NULL</td><td>NULL</td><td>86</td></tr>",
                            "<tr><td>230</td><td>Security</td><td>Elevated Permissions on a Database</td><td>DMAT</td><td>https://BrentOzar.com/go/elevated</td><td>In [DMAT], user [citrus_usr]  has the role [db_securityadmin].  This user can perform tasks beyond just reading and writing data.</td><td>NULL</td><td>NULL</td><td>86</td></tr>",
                            "<tr><td>230</td><td>Security</td><td>Elevated Permissions on a Database</td><td>DMAT</td><td>https://BrentOzar.com/go/elevated</td><td>In [DMAT], user [E31446]  has the role [db_owner].  This user can perform tasks beyond just reading and writing data.</td><td>NULL</td><td>NULL</td><td>86</td></tr>",
                            "<tr><td>230</td><td>Security</td><td>Elevated Permissions on a Database</td><td>DMAT</td><td>https://BrentOzar.com/go/elevated</td><td>In [DMAT], user [E55539]  has the role [db_owner].  This user can perform tasks beyond just reading and writing data.</td><td>NULL</td><td>NULL</td><td>86</td></tr>",
                            "<tr><td>230</td><td>Security</td><td>Elevated Permissions on a Database</td><td>DMAT</td><td>https://BrentOzar.com/go/elevated</td><td>In [DMAT], user [E82308]  has the role [db_ddladmin].  This user can perform tasks beyond just reading and writing data.</td><td>NULL</td><td>NULL</td><td>86</td></tr>",
                            "<tr><td>230</td><td>Security</td><td>Elevated Permissions on a Database</td><td>DMAT</td><td>https://BrentOzar.com/go/elevated</td><td>In [DMAT], user [E84565]  has the role [db_owner].  This user can perform tasks beyond just reading and writing data.</td><td>NULL</td><td>NULL</td><td>86</td></tr>",
                            "<tr><td>230</td><td>Security</td><td>Elevated Permissions on a Database</td><td>inhouse</td><td>https://BrentOzar.com/go/elevated</td><td>In [inhouse], user [E01089]  has the role [db_owner].  This user can perform tasks beyond just reading and writing data.</td><td>NULL</td><td>NULL</td><td>86</td></tr>",
                            "<tr><td>230</td><td>Security</td><td>Elevated Permissions on a Database</td><td>inhouse</td><td>https://BrentOzar.com/go/elevated</td><td>In [inhouse], user [E55539]  has the role [db_owner].  This user can perform tasks beyond just reading and writing data.</td><td>NULL</td><td>NULL</td><td>86</td></tr>",
                            "<tr><td>230</td><td>Security</td><td>Elevated Permissions on a Database</td><td>inhouse</td><td>https://BrentOzar.com/go/elevated</td><td>In [inhouse], user [E82308]  has the role [db_ddladmin].  This user can perform tasks beyond just reading and writing data.</td><td>NULL</td><td>NULL</td><td>86</td></tr>",
                            "<tr><td>230</td><td>Security</td><td>Elevated Permissions on a Database</td><td>inhouse</td><td>https://BrentOzar.com/go/elevated</td><td>In [inhouse], user [Inhouse]  has the role [db_owner].  This user can perform tasks beyond just reading and writing data.</td><td>NULL</td><td>NULL</td><td>86</td></tr>",
                            "<tr><td>230</td><td>Security</td><td>Invalid login defined with Windows Authentication</td><td>NULL</td><td>https://docs.microsoft.com/en-us/sql/relational-databases/system-stored-procedures/sp-validatelogins-transact-sql</td><td>Windows user or group [ANGELTRADE\\bidba.admin] is mapped to a SQL Server principal but no longer exists in the Windows environment.</td><td>NULL</td><td>NULL</td><td>2301</td></tr>",
                            "<tr><td>230</td><td>Security</td><td>Sysadmins</td><td>NULL</td><td>https://BrentOzar.com/go/sa</td><td>Login [ABMUBOUP108\\Administrator] is a sysadmin - meaning they can do absolutely anything in SQL Server, including dropping databases or hiding their tracks.</td><td>NULL</td><td>NULL</td><td>4</td></tr>",
                            "<tr><td>230</td><td>Security</td><td>Sysadmins</td><td>NULL</td><td>https://BrentOzar.com/go/sa</td><td>Login [ANGELTRADE\\bidba.admin] is a sysadmin - meaning they can do absolutely anything in SQL Server, including dropping databases or hiding their tracks.</td><td>NULL</td><td>NULL</td><td>4</td></tr>",
                            "<tr><td>230</td><td>Security</td><td>Sysadmins</td><td>NULL</td><td>https://BrentOzar.com/go/sa</td><td>Login [Bidba.Abhilash] is a sysadmin - meaning they can do absolutely anything in SQL Server, including dropping databases or hiding their tracks.</td><td>NULL</td><td>NULL</td><td>4</td></tr>",
                            "<tr><td>230</td><td>Security</td><td>Sysadmins</td><td>NULL</td><td>https://BrentOzar.com/go/sa</td><td>Login [bidba.akarsh] is a sysadmin - meaning they can do absolutely anything in SQL Server, including dropping databases or hiding their tracks.</td><td>NULL</td><td>NULL</td><td>4</td></tr>",
                            "<tr><td>230</td><td>Security</td><td>Sysadmins</td><td>NULL</td><td>https://BrentOzar.com/go/sa</td><td>Login [Bidba.aravind] is a sysadmin - meaning they can do absolutely anything in SQL Server, including dropping databases or hiding their tracks.</td><td>NULL</td><td>NULL</td><td>4</td></tr>",
                            "<tr><td>230</td><td>Security</td><td>Sysadmins</td><td>NULL</td><td>https://BrentOzar.com/go/sa</td><td>Login [Bidba.Atul] is a sysadmin - meaning they can do absolutely anything in SQL Server, including dropping databases or hiding their tracks.</td><td>NULL</td><td>NULL</td><td>4</td></tr>",
                            "<tr><td>230</td><td>Security</td><td>Sysadmins</td><td>NULL</td><td>https://BrentOzar.com/go/sa</td><td>Login [bidba.dheeraj] is a sysadmin - meaning they can do absolutely anything in SQL Server, including dropping databases or hiding their tracks.</td><td>NULL</td><td>NULL</td><td>4</td></tr>",
                            "<tr><td>230</td><td>Security</td><td>Sysadmins</td><td>NULL</td><td>https://BrentOzar.com/go/sa</td><td>Login [bidba.digambar] is a sysadmin - meaning they can do absolutely anything in SQL Server, including dropping databases or hiding their tracks.</td><td>NULL</td><td>NULL</td><td>4</td></tr>",
                            "<tr><td>230</td><td>Security</td><td>Sysadmins</td><td>NULL</td><td>https://BrentOzar.com/go/sa</td><td>Login [bidba.Dilip] is a sysadmin - meaning they can do absolutely anything in SQL Server, including dropping databases or hiding their tracks.</td><td>NULL</td><td>NULL</td><td>4</td></tr>",
                            "<tr><td>230</td><td>Security</td><td>Sysadmins</td><td>NULL</td><td>https://BrentOzar.com/go/sa</td><td>Login [bidba.harishkumar] is a sysadmin - meaning they can do absolutely anything in SQL Server, including dropping databases or hiding their tracks.</td><td>NULL</td><td>NULL</td><td>4</td></tr>",
                            "<tr><td>230</td><td>Security</td><td>Sysadmins</td><td>NULL</td><td>https://BrentOzar.com/go/sa</td><td>Login [bidba.Manikanta] is a sysadmin - meaning they can do absolutely anything in SQL Server, including dropping databases or hiding their tracks.</td><td>NULL</td><td>NULL</td><td>4</td></tr>",
                            "<tr><td>230</td><td>Security</td><td>Sysadmins</td><td>NULL</td><td>https://BrentOzar.com/go/sa</td><td>Login [bidba.omprakash] is a sysadmin - meaning they can do absolutely anything in SQL Server, including dropping databases or hiding their tracks.</td><td>NULL</td><td>NULL</td><td>4</td></tr>",
                            "<tr><td>230</td><td>Security</td><td>Sysadmins</td><td>NULL</td><td>https://BrentOzar.com/go/sa</td><td>Login [bidba.prabha] is a sysadmin - meaning they can do absolutely anything in SQL Server, including dropping databases or hiding their tracks.</td><td>NULL</td><td>NULL</td><td>4</td></tr>",
                            "<tr><td>230</td><td>Security</td><td>Sysadmins</td><td>NULL</td><td>https://BrentOzar.com/go/sa</td><td>Login [bidba.Prashant] is a sysadmin - meaning they can do absolutely anything in SQL Server, including dropping databases or hiding their tracks.</td><td>NULL</td><td>NULL</td><td>4</td></tr>",
                            "<tr><td>230</td><td>Security</td><td>Sysadmins</td><td>NULL</td><td>https://BrentOzar.com/go/sa</td><td>Login [Bidba.Siva] is a sysadmin - meaning they can do absolutely anything in SQL Server, including dropping databases or hiding their tracks.</td><td>NULL</td><td>NULL</td><td>4</td></tr>",
                            "<tr><td>230</td><td>Security</td><td>Sysadmins</td><td>NULL</td><td>https://BrentOzar.com/go/sa</td><td>Login [Bidba.sowhardh] is a sysadmin - meaning they can do absolutely anything in SQL Server, including dropping databases or hiding their tracks.</td><td>NULL</td><td>NULL</td><td>4</td></tr>",
                            "<tr><td>230</td><td>Security</td><td>Sysadmins</td><td>NULL</td><td>https://BrentOzar.com/go/sa</td><td>Login [Bidba.Sushant] is a sysadmin - meaning they can do absolutely anything in SQL Server, including dropping databases or hiding their tracks.</td><td>NULL</td><td>NULL</td><td>4</td></tr>",
                            "<tr><td>230</td><td>Security</td><td>Sysadmins</td><td>NULL</td><td>https://BrentOzar.com/go/sa</td><td>Login [bidba.vivek] is a sysadmin - meaning they can do absolutely anything in SQL Server, including dropping databases or hiding their tracks.</td><td>NULL</td><td>NULL</td><td>4</td></tr>",
                            "<tr><td>230</td><td>Security</td><td>Sysadmins</td><td>NULL</td><td>https://BrentOzar.com/go/sa</td><td>Login [Bidba.yogesh] is a sysadmin - meaning they can do absolutely anything in SQL Server, including dropping databases or hiding their tracks.</td><td>NULL</td><td>NULL</td><td>4</td></tr>",
                            "<tr><td>230</td><td>Security</td><td>Sysadmins</td><td>NULL</td><td>https://BrentOzar.com/go/sa</td><td>Login [dpa] is a sysadmin - meaning they can do absolutely anything in SQL Server, including dropping databases or hiding their tracks.</td><td>NULL</td><td>NULL</td><td>4</td></tr>",
                            "<tr><td>230</td><td>Security</td><td>Sysadmins</td><td>NULL</td><td>https://BrentOzar.com/go/sa</td><td>Login [E48340] is a sysadmin - meaning they can do absolutely anything in SQL Server, including dropping databases or hiding their tracks.</td><td>NULL</td><td>NULL</td><td>4</td></tr>",
                            "<tr><td>230</td><td>Security</td><td>Sysadmins</td><td>NULL</td><td>https://BrentOzar.com/go/sa</td><td>Login [E84599] is a sysadmin - meaning they can do absolutely anything in SQL Server, including dropping databases or hiding their tracks.</td><td>NULL</td><td>NULL</td><td>4</td></tr>",
                            "<tr><td>230</td><td>Security</td><td>Sysadmins</td><td>NULL</td><td>https://BrentOzar.com/go/sa</td><td>Login [E84947] is a sysadmin - meaning they can do absolutely anything in SQL Server, including dropping databases or hiding their tracks.</td><td>NULL</td><td>NULL</td><td>4</td></tr>",
                            "<tr><td>230</td><td>Security</td><td>Sysadmins</td><td>NULL</td><td>https://BrentOzar.com/go/sa</td><td>Login [inhouse_link] is a sysadmin - meaning they can do absolutely anything in SQL Server, including dropping databases or hiding their tracks.</td><td>NULL</td><td>NULL</td><td>4</td></tr>",
                            "<tr><td>230</td><td>Security</td><td>Sysadmins</td><td>NULL</td><td>https://BrentOzar.com/go/sa</td><td>Login [JobAdmin] is a sysadmin - meaning they can do absolutely anything in SQL Server, including dropping databases or hiding their tracks.</td><td>NULL</td><td>NULL</td><td>4</td></tr>",
                            "<tr><td>230</td><td>Security</td><td>Sysadmins</td><td>NULL</td><td>https://BrentOzar.com/go/sa</td><td>Login [LinkAdmin] is a sysadmin - meaning they can do absolutely anything in SQL Server, including dropping databases or hiding their tracks.</td><td>NULL</td><td>NULL</td><td>4</td></tr>",
                            "<tr><td>230</td><td>Security</td><td>Sysadmins</td><td>NULL</td><td>https://BrentOzar.com/go/sa</td><td>Login [LogShip_Usr] is a sysadmin - meaning they can do absolutely anything in SQL Server, including dropping databases or hiding their tracks.</td><td>NULL</td><td>NULL</td><td>4</td></tr>",
                            "<tr><td>230</td><td>Security</td><td>Sysadmins</td><td>NULL</td><td>https://BrentOzar.com/go/sa</td><td>Login [Misadmin] is a sysadmin - meaning they can do absolutely anything in SQL Server, including dropping databases or hiding their tracks.</td><td>NULL</td><td>NULL</td><td>4</td></tr>",
                            "<tr><td>230</td><td>Security</td><td>Sysadmins</td><td>NULL</td><td>https://BrentOzar.com/go/sa</td><td>Login [NOC_Rishikesh] is a sysadmin - meaning they can do absolutely anything in SQL Server, including dropping databases or hiding their tracks.</td><td>NULL</td><td>NULL</td><td>4</td></tr>",
                            "<tr><td>230</td><td>Security</td><td>Sysadmins</td><td>NULL</td><td>https://BrentOzar.com/go/sa</td><td>Login [REPL] is a sysadmin - meaning they can do absolutely anything in SQL Server, including dropping databases or hiding their tracks.</td><td>NULL</td><td>NULL</td><td>4</td></tr>",
                            "<tr><td>230</td><td>Security</td><td>Sysadmins</td><td>NULL</td><td>https://BrentOzar.com/go/sa</td><td>Login [SL_CS0125] is a sysadmin - meaning they can do absolutely anything in SQL Server, including dropping databases or hiding their tracks.</td><td>NULL</td><td>NULL</td><td>4</td></tr>",
                            "<tr><td>230</td><td>Security</td><td>Sysadmins</td><td>NULL</td><td>https://BrentOzar.com/go/sa</td><td>Login [SL_CS0126] is a sysadmin - meaning they can do absolutely anything in SQL Server, including dropping databases or hiding their tracks.</td><td>NULL</td><td>NULL</td><td>4</td></tr>",
                            "<tr><td>230</td><td>Security</td><td>Sysadmins</td><td>NULL</td><td>https://BrentOzar.com/go/sa</td><td>Login [SL_CS0127] is a sysadmin - meaning they can do absolutely anything in SQL Server, including dropping databases or hiding their tracks.</td><td>NULL</td><td>NULL</td><td>4</td></tr>",
                            "<tr><td>230</td><td>Security</td><td>Sysadmins</td><td>NULL</td><td>https://BrentOzar.com/go/sa</td><td>Login [SL_CS0128] is a sysadmin - meaning they can do absolutely anything in SQL Server, including dropping databases or hiding their tracks.</td><td>NULL</td><td>NULL</td><td>4</td></tr>",
                            "<tr><td>230</td><td>Security</td><td>Sysadmins</td><td>NULL</td><td>https://BrentOzar.com/go/sa</td><td>Login [SL_CS0129] is a sysadmin - meaning they can do absolutely anything in SQL Server, including dropping databases or hiding their tracks.</td><td>NULL</td><td>NULL</td><td>4</td></tr>",
                            "<tr><td>230</td><td>Security</td><td>Sysadmins</td><td>NULL</td><td>https://BrentOzar.com/go/sa</td><td>Login [SL_CS0130] is a sysadmin - meaning they can do absolutely anything in SQL Server, including dropping databases or hiding their tracks.</td><td>NULL</td><td>NULL</td><td>4</td></tr>",
                            "<tr><td>230</td><td>Security</td><td>Sysadmins</td><td>NULL</td><td>https://BrentOzar.com/go/sa</td><td>Login [SL_CS0131] is a sysadmin - meaning they can do absolutely anything in SQL Server, including dropping databases or hiding their tracks.</td><td>NULL</td><td>NULL</td><td>4</td></tr>",
                            "<tr><td>230</td><td>Security</td><td>Sysadmins</td><td>NULL</td><td>https://BrentOzar.com/go/sa</td><td>Login [SL_CS0133] is a sysadmin - meaning they can do absolutely anything in SQL Server, including dropping databases or hiding their tracks.</td><td>NULL</td><td>NULL</td><td>4</td></tr>",
                            "<tr><td>230</td><td>Security</td><td>Sysadmins</td><td>NULL</td><td>https://BrentOzar.com/go/sa</td><td>Login [SL_CS0147] is a sysadmin - meaning they can do absolutely anything in SQL Server, including dropping databases or hiding their tracks.</td><td>NULL</td><td>NULL</td><td>4</td></tr>",
                            "<tr><td>230</td><td>Security</td><td>Sysadmins</td><td>NULL</td><td>https://BrentOzar.com/go/sa</td><td>Login [test_login] is a sysadmin - meaning they can do absolutely anything in SQL Server, including dropping databases or hiding their tracks.</td><td>NULL</td><td>NULL</td><td>4</td></tr>",
                            "<tr><td>253</td><td>First Responder Kit</td><td>Component Outdated: [master].[dbo].[sp_BlitzBackups]</td><td>NULL</td><td>http://FirstResponderKit.org</td><td>Download and install the latest First Responder Kit - you're running some older code, and it doesn't get better with age.</td><td>NULL</td><td>NULL</td><td>228</td></tr>",
                            "<tr><td>253</td><td>First Responder Kit</td><td>Component Outdated: [master].[dbo].[sp_BlitzCache]</td><td>NULL</td><td>http://FirstResponderKit.org</td><td>Download and install the latest First Responder Kit - you're running some older code, and it doesn't get better with age.</td><td>NULL</td><td>NULL</td><td>228</td></tr>",
                            "<tr><td>253</td><td>First Responder Kit</td><td>Component Outdated: [master].[dbo].[sp_BlitzFirst]</td><td>NULL</td><td>http://FirstResponderKit.org</td><td>Download and install the latest First Responder Kit - you're running some older code, and it doesn't get better with age.</td><td>NULL</td><td>NULL</td><td>228</td></tr>",
                            "<tr><td>253</td><td>First Responder Kit</td><td>Component Outdated: [master].[dbo].[sp_BlitzIndex]</td><td>NULL</td><td>http://FirstResponderKit.org</td><td>Download and install the latest First Responder Kit - you're running some older code, and it doesn't get better with age.</td><td>NULL</td><td>NULL</td><td>228</td></tr>",
                            "<tr><td>253</td><td>First Responder Kit</td><td>Component Outdated: [master].[dbo].[sp_BlitzLock]</td><td>NULL</td><td>http://FirstResponderKit.org</td><td>Download and install the latest First Responder Kit - you're running some older code, and it doesn't get better with age.</td><td>NULL</td><td>NULL</td><td>228</td></tr>",
                            "<tr><td>253</td><td>First Responder Kit</td><td>Component Outdated: [master].[dbo].[sp_BlitzWho]</td><td>NULL</td><td>http://FirstResponderKit.org</td><td>Download and install the latest First Responder Kit - you're running some older code, and it doesn't get better with age.</td><td>NULL</td><td>NULL</td><td>228</td></tr>",
                            "<tr><td>254</td><td>Rundate</td><td>Mar 25 2022 10:36AM</td><td>NULL</td><td>http://FirstResponderKit.org/</td><td>Captain's log: stardate something and something...</td><td>NULL</td><td>NULL</td><td>156</td></tr>",
                            "<tr><td>255</td><td>Thanks!</td><td>From Your Community Volunteers</td><td>NULL</td><td>http://FirstResponderKit.org</td><td>We hope you found this tool useful.</td><td>NULL</td><td>NULL</td><td>-1</td></tr>",
                            "</table>"
                        ]
                    }
                }
            ],
            "execution_count": 1
        }
    ]
}